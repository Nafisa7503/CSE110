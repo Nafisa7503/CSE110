{
  "nbformat": 4,
  "nbformat_minor": 0,
  "metadata": {
    "kernelspec": {
      "display_name": "Python 3",
      "language": "python",
      "name": "python3"
    },
    "language_info": {
      "codemirror_mode": {
        "name": "ipython",
        "version": 3
      },
      "file_extension": ".py",
      "mimetype": "text/x-python",
      "name": "python",
      "nbconvert_exporter": "python",
      "pygments_lexer": "ipython3",
      "version": "3.7.6"
    },
    "colab": {
      "provenance": []
    }
  },
  "cells": [
    {
      "cell_type": "markdown",
      "metadata": {
        "id": "_uzpm0b85D7Z"
      },
      "source": [
        "**<font color='red'>[MUST MAINTAIN VARIABLE NAMING CONVENTIONS FOR ALL THE TASKS]</font>**\n",
        "\n",
        "## Write the Python code of the following problems:\n",
        "\n",
        "### Task 1\n",
        "Write a function called **even_checker** that takes a number as an argument and prints whether the number is even or odd **inside the function**.\n",
        "\n",
        "===================================\n",
        "\n",
        "**Example1:** \\\n",
        "**Function Call:**\\\n",
        "even_checker(5)\\\n",
        "**Output:**\\\n",
        "Odd!!\n",
        "\n",
        "=============================\n",
        "\n",
        "**Example2:** \\\n",
        "**Function Call:**\\\n",
        "even_checker(2)\\\n",
        "**Output:**\\\n",
        "Even!!\n",
        "\n"
      ]
    },
    {
      "cell_type": "code",
      "metadata": {
        "id": "tMMBecSe5D7a",
        "colab": {
          "base_uri": "https://localhost:8080/"
        },
        "outputId": "caeb08b8-e350-408d-a081-554c3f84248f"
      },
      "source": [
        "# to do\n",
        "def even_checker(x):\n",
        "  if x%2==0:\n",
        "    print(\"Even!!\")\n",
        "  else:\n",
        "    print(\"Odd!!\")\n",
        "even_checker(4)\n",
        ""
      ],
      "execution_count": null,
      "outputs": [
        {
          "output_type": "stream",
          "name": "stdout",
          "text": [
            "Even!!\n"
          ]
        }
      ]
    },
    {
      "cell_type": "markdown",
      "metadata": {
        "id": "YFKgn6Yw5D7f"
      },
      "source": [
        "### Task 2\n",
        "Write a python function that takes the limit as an argument of the Fibonacci series and prints till that limit.\n",
        "\n",
        "===================================\n",
        "\n",
        "**Function Call:**\\\n",
        "fibonacci(10)\\\n",
        "**Output:**\\\n",
        "0 1 1 2 3 5 8\\\n",
        "======================\\\n",
        "**Function Call:**\\\n",
        "fibonacci(5)\\\n",
        "**Output:**\\\n",
        "0 1 1 2 3 5"
      ]
    },
    {
      "cell_type": "code",
      "metadata": {
        "id": "J4ab_IeA5D7g",
        "colab": {
          "base_uri": "https://localhost:8080/"
        },
        "outputId": "52b449dd-1015-4143-ea72-c9b3de239a9e"
      },
      "source": [
        "# to do\n",
        "def fibonacci(upper_bound):\n",
        "    x=0\n",
        "    y=1\n",
        "    print(x,y,end=\" \")\n",
        "    for i in range(2,upper_bound+1):\n",
        "        if x+y>upper_bound:\n",
        "            return\n",
        "        else:\n",
        "            z=x+y\n",
        "            print(z,end=\" \")\n",
        "            x=y\n",
        "            y=z\n",
        "fibonacci(10)"
      ],
      "execution_count": null,
      "outputs": [
        {
          "output_type": "stream",
          "name": "stdout",
          "text": [
            "0 1 1 2 3 5 8 "
          ]
        }
      ]
    },
    {
      "cell_type": "markdown",
      "metadata": {
        "id": "rDY_xNcO5D7k"
      },
      "source": [
        "### Task 3\n",
        "Write a function called **foo_moo** that takes a number as an argument and **returns** the following statements according the below mentioned conditions. Then, finally prints the statement in the function call.\n",
        "\n",
        "* \tIf the number is divisible by 2, it should return \"Foo\".\n",
        "*   If the number is divisible by 3, it should return \"Moo\".\n",
        "*   If the number is divisible by both 2 and 3, it should return \"FooMoo\".\n",
        "*   Otherwise, it returns \"Boo\".\n",
        "\n",
        "===================================\n",
        "\n",
        "**Example1:** \\\n",
        "**Function Call:**\\\n",
        "foo_moo(5)\\\n",
        "**Output:**\\\n",
        "Boo\n",
        "\n",
        "=================\n",
        "\n",
        "\n",
        "**Example2:** \\\n",
        "**Function Call:**\\\n",
        "foo_moo(4)\\\n",
        "**Output:**\\\n",
        "Foo\n",
        "\n",
        "=================\n",
        "\n",
        "\n",
        "**Example3:** \\\n",
        "**Function Call:**\\\n",
        "foo_moo(6)\\\n",
        "**Output:**\\\n",
        "FooMoo\n",
        "\n"
      ]
    },
    {
      "cell_type": "code",
      "metadata": {
        "id": "2roUcNrC5D7l",
        "colab": {
          "base_uri": "https://localhost:8080/"
        },
        "outputId": "46028b06-dbd2-4106-8a00-3559109509fe"
      },
      "source": [
        "# to do\n",
        "def foo_moo(x):\n",
        "  if x%2==0 and x%3==0:\n",
        "    return \"FooMoo\"\n",
        "  elif x%3==0:\n",
        "    return \"Moo\"\n",
        "  elif x%2==0:\n",
        "    return \"Foo\"\n",
        "  else:\n",
        "    return \"Boo\"\n",
        "print(foo_moo(18))\n"
      ],
      "execution_count": null,
      "outputs": [
        {
          "output_type": "stream",
          "name": "stdout",
          "text": [
            "FooMoo\n"
          ]
        }
      ]
    },
    {
      "cell_type": "markdown",
      "metadata": {
        "id": "nemw1U-i5D7s"
      },
      "source": [
        "### Task 4\n",
        "Write a python function that takes a string as an argument. Your task is to calculate the number of uppercase letters and lowercase letters and print them in the function.\n",
        "\n",
        "===================================\n",
        "\n",
        "**Function Call:**\\\n",
        "function_name('The quick Sand Man')\\\n",
        "**Output:**\\\n",
        "No. of Uppercase characters : 3\\\n",
        "No. of Lowercase Characters: 12\\\n",
        "============================\\\n",
        "**Function Call:**\\\n",
        "function_name('HaRRy PotteR')\\\n",
        "**Output:**\\\n",
        "No. of Uppercase characters : 5\\\n",
        "No. of Lowercase Characters: 6\n"
      ]
    },
    {
      "cell_type": "code",
      "metadata": {
        "id": "4ZBb4Mcr5D7t",
        "colab": {
          "base_uri": "https://localhost:8080/"
        },
        "outputId": "d3113d02-dc68-4d80-ae7a-4197743e6097"
      },
      "source": [
        "# to do\n",
        "def function_name(x):\n",
        "  cnt1=0\n",
        "  cnt2=0\n",
        "  for i in x:\n",
        "    if i.isupper():\n",
        "      cnt1+=1\n",
        "    elif i.islower():\n",
        "      cnt2+=1\n",
        "  print(\"No. of Uppercase Characters :\",cnt1)\n",
        "  print(\"No. of Lowercase Characters :\",cnt2)\n",
        "function_name(\"The quick Sand Man\")\n",
        "\n"
      ],
      "execution_count": null,
      "outputs": [
        {
          "output_type": "stream",
          "name": "stdout",
          "text": [
            "No. of Uppercase Characters : 3\n",
            "No. of Lowercase Characters : 12\n"
          ]
        }
      ]
    },
    {
      "cell_type": "markdown",
      "metadata": {
        "id": "e9bojIHe5D7w"
      },
      "source": [
        "### Task 5\n",
        "Write a function called **calculate_tax** that takes 3 arguments: your age, salary, and current job designation.\n",
        "\n",
        "\n",
        "Your first task is to take these arguments as user input and pass these values to the function.\n",
        "\n",
        "Your second task is to implement the function and calculate the tax as the following conditions:\n",
        "*  **NO TAX IF YOU ARE LESS THAN 18 YEARS OLD.**\n",
        "*  **NO TAX IF YOU ARE THE PRESIDENT OF THE COMPANY**\n",
        "*  No tax if you get paid less than 10,000\n",
        "*  5% tax if you get paid between 10K and 20K\n",
        "*  10% tax if you get paid more than 20K\n",
        "\n",
        "\n",
        "Finally return this tax value. Then print the returned value in the function call.\n",
        "\n",
        "===================================\n",
        "\n",
        "**Hints:**\\\n",
        "Here the job designation is a string, so it can be written in both uppercase and lower cases. So, you need to check the value ignoring the case.\n",
        "\n",
        "===================================\n",
        "\n",
        "**Example1:** \\\n",
        "**Input:**\\\n",
        "16\\\n",
        "20000\\\n",
        "Student\\\n",
        "**Function Call:**\\\n",
        "calculate_tax(16, 20000, 'Student')\\\n",
        "**Output:**\\\n",
        "0\n",
        "\n",
        "===================================\n",
        "\n",
        "**Example2:** \\\n",
        "**Input:**\\\n",
        "20\\\n",
        "18000\\\n",
        "assistant manager\\\n",
        "**Function Call:**\\\n",
        "calculate_tax(20, 18000, 'assistant manager')\\\n",
        "**Output:**\\\n",
        "900.0\n",
        "\n",
        "\n",
        "===================================\n",
        "\n",
        "**Example3:** \\\n",
        "**Input:**\\\n",
        "20\\\n",
        "22000\\\n",
        "assistant manager\\\n",
        "**Function Call:**\\\n",
        "calculate_tax(20, 22000, 'Assistant manager')\\\n",
        "**Output:**\\\n",
        "2200.0\n",
        "\n",
        "===================================\n",
        "\n",
        "\n",
        "**Example4:** \\\n",
        "**Input:**\\\n",
        "20\\\n",
        "122000\\\n",
        "president\\\n",
        "**Function Call:**\\\n",
        "calculate_tax(20, 122000, 'president')\\\n",
        "**Output:**\\\n",
        "0\n",
        "\n",
        "\n",
        "\n"
      ]
    },
    {
      "cell_type": "code",
      "metadata": {
        "id": "M4oo-FKQ5D7x",
        "colab": {
          "base_uri": "https://localhost:8080/"
        },
        "outputId": "57a7e8c9-965d-459c-edb4-5858c50cac49"
      },
      "source": [
        "# to do\n",
        "def calculate_tax(age,salary,designation):\n",
        "  if age<18:\n",
        "    return 0\n",
        "  elif designation==\"president\":\n",
        "    return 0\n",
        "  elif salary<10000:\n",
        "    return 0\n",
        "  elif salary>=10000 and salary<=20000:\n",
        "    return salary*0.05\n",
        "  elif salary>20000:\n",
        "    return salary*0.1\n",
        "age=int(input(\"Enter your age\"))\n",
        "salary=int(input(\"Enter your salary amount\"))\n",
        "designation=input(\"Enter your designation\").lower()\n",
        "print(calculate_tax(age,salary,designation))\n",
        "\n"
      ],
      "execution_count": null,
      "outputs": [
        {
          "output_type": "stream",
          "name": "stdout",
          "text": [
            "Enter your age20\n",
            "Enter your salary amount22000\n",
            "Enter your designationassistant manager\n",
            "2200.0\n"
          ]
        }
      ]
    },
    {
      "cell_type": "markdown",
      "metadata": {
        "id": "VXLQHyLp5D71"
      },
      "source": [
        "### Task 6\n",
        "Write a function which will take 1 argument, number of days.\n",
        "\n",
        "Your first task is to take the number of days as user input and pass the value to the function.\n",
        "\n",
        "Your second task is to implement the function and calculate the total number of years, number of months, and the remaining number of days as output. No need to return any value, print inside the function.\n",
        "\n",
        "**Note:** Assume, each year to be 365 days and month to be 30 days.\n",
        "\n",
        "=====================================================\n",
        "\n",
        "**Hint(1):**  Divide and mod the main input to get the desired output.\n",
        "\n",
        "**Hint(2):**\n",
        "This task’s calculation is similar to Assignment-1’s seconds to hours, minutes conversion.\n",
        "\n",
        "=====================================================\n",
        "\n",
        "**Example01**\n",
        "\n",
        "**Input:**\\\n",
        "4330\\\n",
        "**Function Call:**\\\n",
        "function_name(4330)\\\n",
        "**Output:**\\\n",
        "11 years, 10 months and 15 days\n",
        "\n",
        "================================\n",
        "\n",
        "**Example02**\n",
        "\n",
        "**Input:**\\\n",
        "2250\\\n",
        "**Function Call:**\\\n",
        "function_name(2250)\\\n",
        "**Output:**\\\n",
        "6 years, 2 months and 0 days\n",
        "\n",
        "\n"
      ]
    },
    {
      "cell_type": "code",
      "metadata": {
        "id": "gkE9d9gs5D72",
        "colab": {
          "base_uri": "https://localhost:8080/"
        },
        "outputId": "3dae9b08-934a-49da-cb4b-171944887948"
      },
      "source": [
        "# todo\n",
        "def day_calculator(no_of_days):\n",
        "    years=no_of_days//365\n",
        "    rem_days=no_of_days%365\n",
        "    month=rem_days//30\n",
        "    day=rem_days%30\n",
        "    print(years,\"years,\",month,\"months and\",day,\"days\")\n",
        "no_of_days=int(input(\"Enter the number of days: \"))\n",
        "if no_of_days<0:\n",
        "  print(\"Invalid input\")\n",
        "else:\n",
        "  day_calculator(no_of_days)"
      ],
      "execution_count": null,
      "outputs": [
        {
          "output_type": "stream",
          "name": "stdout",
          "text": [
            "Enter the number of days: 2250\n",
            "6 years, 2 months and 0 days\n"
          ]
        }
      ]
    },
    {
      "cell_type": "markdown",
      "metadata": {
        "id": "8-vvES0i5D8B"
      },
      "source": [
        "### Task 7\n",
        "Write a function called **show_palindrome** that takes a number as an argument and then returns a palindrome string. Finally, prints the returned value in the function call.\n",
        "\n",
        "=====================================================\n",
        "\n",
        "**Example1:** \\\n",
        "**Function Call:**\\\n",
        "show_palindrome(5)\\\n",
        "**Output:**\\\n",
        "123454321\n",
        "\n",
        "===================\n",
        "\n",
        "**Example2:** \\\n",
        "**Function Call:**\\\n",
        "show_palindrome(3)\\\n",
        "**Output:**\\\n",
        "12321\n"
      ]
    },
    {
      "cell_type": "code",
      "metadata": {
        "id": "QN-Iu8sz5D8C",
        "colab": {
          "base_uri": "https://localhost:8080/"
        },
        "outputId": "4c840fa0-bfb6-483b-a7c8-53296b0d2d62"
      },
      "source": [
        "# to do\n",
        "def show_palindrome(pal):\n",
        "    palindrome=\"\"\n",
        "    for i in range(1,pal+1):\n",
        "        palindrome+=str(i)\n",
        "    for i in range(pal-1,0,-1):\n",
        "        palindrome+=str(i)\n",
        "    return palindrome\n",
        "print(show_palindrome(5))"
      ],
      "execution_count": null,
      "outputs": [
        {
          "output_type": "stream",
          "name": "stdout",
          "text": [
            "123454321\n"
          ]
        }
      ]
    },
    {
      "cell_type": "markdown",
      "metadata": {
        "id": "V_PVNpx45D8F"
      },
      "source": [
        "### Task 8\n",
        "Write a function called **show_palindromic_triangle** that takes a number as an argument and prints a Palindromic Triangle in the function.\n",
        "\n",
        "**<font color='blue'>[Must reuse the show_palindrome() function of the previous task]</font>**\n",
        "\n",
        "\n",
        "\n",
        "=====================================================\n",
        "\n",
        "**Hints(1):** \\\n",
        "Need to use both print() and print( , end = \" \") functions\n",
        "\n",
        "\n",
        "=====================================================\n",
        "\n",
        "**Example1:** \\\n",
        "**Function Call:**\\\n",
        "show_palindromic_triangle(5)\\\n",
        "**Output:**\n",
        "\n",
        "&emsp; &emsp; &emsp; &emsp; 1\\\n",
        "&emsp; &emsp; &emsp; 1 &nbsp; 2 &nbsp; 1 \\\n",
        "&emsp; &emsp; 1 &nbsp; 2 &nbsp; 3 &nbsp; 2 &nbsp; 1 \\\n",
        "&emsp; 1 &nbsp; 2 &nbsp; 3 &nbsp; 4 &nbsp; 3 &nbsp; 2 &nbsp; 1 \\\n",
        "1 &nbsp; 2 &nbsp; 3 &nbsp; 4 &nbsp; 5 &nbsp; 4 &nbsp; 3 &nbsp; 2 &nbsp; 1\n",
        "\n",
        "=============================================================\n",
        "\n",
        "\n",
        "**Example2:** \\\n",
        "**Function Call:**\\\n",
        "show_palindromic_triangle(3)\\\n",
        "**Output:**\n",
        "\n",
        "&emsp; &emsp; 1 \\\n",
        "&emsp; 1 &nbsp; 2 &nbsp; 1 \\\n",
        "1 &nbsp; 2 &nbsp; 3 &nbsp; 2 &nbsp; 1\n",
        "\n",
        "\n"
      ]
    },
    {
      "cell_type": "code",
      "metadata": {
        "id": "fUu0BrHz5D8G",
        "colab": {
          "base_uri": "https://localhost:8080/"
        },
        "outputId": "77f87767-4765-4fbf-f39c-711b34fec2df"
      },
      "source": [
        "# to do\n",
        "def show_palindrome(pal):\n",
        "    palindrome=\"\"\n",
        "    for i in range(1,pal+1):\n",
        "        palindrome+=str(i)+\" \"\n",
        "    for i in range(pal-1,0,-1):\n",
        "        palindrome+=str(i)+\" \"\n",
        "    return palindrome\n",
        "\n",
        "def show_palindromic_triangle(p):\n",
        "    for i in range(1,p+1):\n",
        "        print(\" \"*(p-i)*2,end=\"\")\n",
        "        print(show_palindrome(i))\n",
        "show_palindromic_triangle(10)\n",
        "\n",
        "\n"
      ],
      "execution_count": null,
      "outputs": [
        {
          "output_type": "stream",
          "name": "stdout",
          "text": [
            "                  1 \n",
            "                1 2 1 \n",
            "              1 2 3 2 1 \n",
            "            1 2 3 4 3 2 1 \n",
            "          1 2 3 4 5 4 3 2 1 \n",
            "        1 2 3 4 5 6 5 4 3 2 1 \n",
            "      1 2 3 4 5 6 7 6 5 4 3 2 1 \n",
            "    1 2 3 4 5 6 7 8 7 6 5 4 3 2 1 \n",
            "  1 2 3 4 5 6 7 8 9 8 7 6 5 4 3 2 1 \n",
            "1 2 3 4 5 6 7 8 9 10 9 8 7 6 5 4 3 2 1 \n"
          ]
        }
      ]
    },
    {
      "cell_type": "markdown",
      "metadata": {
        "id": "iLTMEWXg5D8M"
      },
      "source": [
        "### Task 09\n",
        "Write a function called **area_circumference_generator** that takes a radius of a circle as a  function parameter and calculates its circumference and area. Then returns these two results as a **tuple** and prints the results using tuple unpacking in the function call accorrding to the given format.\n",
        "\n",
        "<font color='blue'>**[Must use tuple packing & unpacking]** </font>\n",
        "\n",
        "=====================================================\n",
        "\n",
        "**Example1:** \\\n",
        "**Function Call:**\\\n",
        "area_circumference_generator(1)\\\n",
        "**Output:**\\\n",
        "(3.141592653589793, 6.283185307179586)\\\n",
        "Area of the circle is 3.141592653589793 and circumference is 6.283185307179586\n",
        "\n",
        "====================================\n",
        "\n",
        "**Example2:** \\\n",
        "**Function Call:**\\\n",
        "area_circumference_generator(1.5)\\\n",
        "**Output:**\\\n",
        "(7.0685834705770345, 9.42477796076938)\\\n",
        "Area of the circle is 7.0685834705770345 and circumference is 9.42477796076938\n",
        "\n",
        "====================================\n",
        "\n",
        "\n",
        "**Example3:** \\\n",
        "**Function Call:**\\\n",
        "area_circumference_generator(2.5)\\\n",
        "**Output:**\\\n",
        "(19.634954084936208, 15.707963267948966)\\\n",
        "Area of the circle is 19.634954084936208 and circumference is 15.707963267948966\n"
      ]
    },
    {
      "cell_type": "code",
      "metadata": {
        "id": "k8SLTHf35D8N",
        "colab": {
          "base_uri": "https://localhost:8080/"
        },
        "outputId": "93e52ec2-2398-4f14-d869-aa814b674ed0"
      },
      "source": [
        "# to do\n",
        "import math\n",
        "def area_circumference_generator(radius):\n",
        "  circumference=radius*math.pi*2\n",
        "  area=math.pi*radius**2\n",
        "  return (area,circumference)\n",
        "radius=float(input(\"Enter the value of the radius\"))\n",
        "area_circumference_generator(radius)\n",
        "a,b= area_circumference_generator(radius)\n",
        "print(\"Area of the circle is \",a,\"and\",\"circumference is \",b)\n"
      ],
      "execution_count": null,
      "outputs": [
        {
          "output_type": "stream",
          "name": "stdout",
          "text": [
            "Enter the value of the radius2.5\n",
            "Area of the circle is  19.634954084936208 and circumference is  15.707963267948966\n"
          ]
        }
      ]
    },
    {
      "cell_type": "markdown",
      "metadata": {
        "id": "NpgEU6ZI5D8S"
      },
      "source": [
        "### Task 10\n",
        "Write a function called **make_square** that takes a tuple in the parameter as a range of numbers (starting point and ending point (included)). The function should **return a dictionary** with the numbers as keys and its squares as values.\n",
        "\n",
        "=====================================================\n",
        "\n",
        "**Hints:** \\\n",
        "You need to declare a dictionary to store the result. You should use the range function to run the “for loop”.\n",
        "\n",
        "\n",
        "=====================================================\n",
        "\n",
        "**Example1:** \\\n",
        "**Function Call:**\\\n",
        "make_square((1,3))\\\n",
        "**Output:**\\\n",
        "{1: 1, 2: 4, 3: 9}\n",
        "\n",
        "====================================\n",
        "\n",
        "**Example2:** \\\n",
        "**Function Call:**\\\n",
        "make_square((5,9))\\\n",
        "**Output:**\\\n",
        "{5: 25, 6: 36, 7: 49, 8: 64, 9: 81}\n",
        "\n",
        "\n",
        "\n"
      ]
    },
    {
      "cell_type": "code",
      "metadata": {
        "id": "-KGD8b0F5D8T",
        "colab": {
          "base_uri": "https://localhost:8080/"
        },
        "outputId": "0492fb5b-9586-4367-b182-7fa3dac19c7b"
      },
      "source": [
        "# to do\n",
        "def make_square(tup):\n",
        "  dict1={}\n",
        "  for i in range(tup[0],tup[1]+1):\n",
        "    dict1[i]=i**2\n",
        "  return dict1\n",
        "print(make_square((5,9)))\n"
      ],
      "execution_count": null,
      "outputs": [
        {
          "output_type": "stream",
          "name": "stdout",
          "text": [
            "{5: 25, 6: 36, 7: 49, 8: 64, 9: 81}\n"
          ]
        }
      ]
    },
    {
      "cell_type": "markdown",
      "metadata": {
        "id": "J7xaBB5i5D8c"
      },
      "source": [
        "### Task 11\n",
        "Write a function called **rem_duplicate** that takes a tuple in the parameter and **return a tuple** removing all the duplicate values. Then print the returned tuple in the function call.\n",
        "\n",
        "<font color='red'>**[Cannot use remove() or removed() for this task]** </font>\n",
        "\n",
        "=====================================================\n",
        "\n",
        "**Hints:** \\\n",
        "Unlike lists, tuples are immutable so, the tuple taken as an argument cannot be modified. But list can be modified and lastly for returning the result use type conversion. You need to use membership operators (in, not in) for preventing adding any duplicates values.\n",
        "\n",
        "=====================================================\n",
        "\n",
        "\n",
        "**Example1:** \\\n",
        "**Function Call:**\\\n",
        "rem_duplicate((1,1,1,2,3,4,5,6,6,6,6,4,0,0,0))\\\n",
        "**Output:**\\\n",
        "(1, 2, 3, 4, 5, 6, 0)\n",
        "\n",
        "====================================\n",
        "\n",
        "**Example2:** \\\n",
        "**Function Call:**\\\n",
        "rem_duplicate((\"Hi\", 1, 2, 3, 3, \"Hi\",'a', 'a', [1,2]))\\\n",
        "**Output:**\\\n",
        "('Hi', 1, 2, 3, 'a', [1, 2])\n",
        "\n",
        "\n",
        "\n"
      ]
    },
    {
      "cell_type": "code",
      "metadata": {
        "id": "mniLLbJY5D8d",
        "colab": {
          "base_uri": "https://localhost:8080/"
        },
        "outputId": "2f22a134-e278-46e5-dc09-c6604e3dc405"
      },
      "source": [
        "# to do\n",
        "def rem_duplicate(tup):\n",
        "  List1=[]\n",
        "  for i in tup:\n",
        "    if i not in List1:\n",
        "      List1.append(i)\n",
        "  tup1=tuple(List1)\n",
        "  return tup1\n",
        "print(rem_duplicate((\"Hi\", 1, 2, 3, 3, \"Hi\",'a', 'a', [1,2])))"
      ],
      "execution_count": null,
      "outputs": [
        {
          "output_type": "stream",
          "name": "stdout",
          "text": [
            "('Hi', 1, 2, 3, 'a', [1, 2])\n"
          ]
        }
      ]
    },
    {
      "cell_type": "markdown",
      "metadata": {
        "id": "yJxb2yrb5D8h"
      },
      "source": [
        "### Task 12\n",
        "Write a python function that takes a list as an argument. Your task is to create a new list where **each element can be present at max 2 times**. Inside the function, print the number of elements removed from the given list. Finally, return the new list and print the result.\n",
        "\n",
        "=====================================================\n",
        "\n",
        "**Hint:** You may use list_name.count(element) to count the total number of times an element is in a list. list_name is your new list for this problem.\n",
        "\n",
        "=====================================================\n",
        "\n",
        "**Function Call:**\\\n",
        "function_name([1, 2, 3, 3, 3, 3, 4, 5, 8, 8])\\\n",
        "**Output:**\\\n",
        "Removed: 2\\\n",
        "[1, 2, 3, 3, 4, 5, 8, 8]\\\n",
        "================================\\\n",
        "**Function Call:**\\\n",
        "function_name([10, 10, 15, 15, 20])\\\n",
        "**Output:**\\\n",
        "Removed: 0\\\n",
        "[10, 10, 15, 15, 20]"
      ]
    },
    {
      "cell_type": "code",
      "metadata": {
        "id": "URBhYdgt5D8h",
        "colab": {
          "base_uri": "https://localhost:8080/"
        },
        "outputId": "56472003-3ce1-43e1-b556-e6eadc1c43a5"
      },
      "source": [
        "# todo\n",
        "def function_name(lst):\n",
        "  rem_count=0\n",
        "  List1=[]\n",
        "  for i in lst:\n",
        "    if List1.count(i)<2:\n",
        "      List1.append(i)\n",
        "    else:\n",
        "      rem_count+=1\n",
        "  print(\"Removed:\",rem_count)\n",
        "  return List1\n",
        "print(function_name([1, 2, 3, 3, 3, 3, 4, 5, 8, 8]))\n",
        "\n",
        "\n",
        "\n"
      ],
      "execution_count": null,
      "outputs": [
        {
          "output_type": "stream",
          "name": "stdout",
          "text": [
            "Removed: 2\n",
            "[1, 2, 3, 3, 4, 5, 8, 8]\n"
          ]
        }
      ]
    },
    {
      "cell_type": "markdown",
      "metadata": {
        "id": "vqET24dk5D8u"
      },
      "source": [
        "### Task 13\n",
        "Write a python function that will perform the basic calculation (addition, subtraction, multiplication and division) based on 3 arguments. They are:\n",
        "- Operator ('+', '-', '/', '*')\n",
        "- First Operand (any number)\n",
        "- Second Operand (any number)\n",
        "\n",
        "Your first task is to take these arguments as user input and pass the values to the function parameters.\n",
        "\n",
        "Your second task is to write a function and performs the calculation based on the given operator. Then, finally return the result in the function call and print the result.\n",
        "\n",
        "=====================================================\n",
        "\n",
        "**Input:**\\\n",
        "\"+\"\\\n",
        "10\\\n",
        "20\\\n",
        "**Function Call:**\\\n",
        "function_name(\"+\", 10, 20)\\\n",
        "**Output:**\\\n",
        "30.0\n",
        "\n",
        "================================\n",
        "\n",
        "**Input:**\\\n",
        "\"*\"\\\n",
        "5.5\\\n",
        "2.5\\\n",
        "**Function Call:**\\\n",
        "function_name(\"*\", 5.5, 2.5)\\\n",
        "**Output:**\\\n",
        "13.75\n"
      ]
    },
    {
      "cell_type": "code",
      "metadata": {
        "id": "sh7YQRv_5D8v",
        "colab": {
          "base_uri": "https://localhost:8080/",
          "height": 282
        },
        "outputId": "02035a81-75b4-4b3b-debd-0c0f6f6a4fba"
      },
      "source": [
        "# to do\n",
        "def basic_calculation(operator,Num1,Num2):\n",
        "  result=0\n",
        "  if operator==\"+\":\n",
        "    result=Num1+Num2\n",
        "  elif operator==\"-\":\n",
        "    result=Num1-Num2\n",
        "  elif operator==\"*\":\n",
        "    result=Num1*Num2\n",
        "  elif operator==\"/\":\n",
        "    result=Num1/Num2\n",
        "  return result\n",
        "op=input(\"Enter the operator\")\n",
        "Num1=float(input(\"Enter a value\"))\n",
        "Num2=float(input(\"Enter another value\"))\n",
        "print(basic_calculation(op,Num1,Num2))\n",
        "\n",
        "\n"
      ],
      "execution_count": null,
      "outputs": [
        {
          "name": "stdout",
          "output_type": "stream",
          "text": [
            "Enter the operator\n",
            "Enter a value\n"
          ]
        },
        {
          "output_type": "error",
          "ename": "ValueError",
          "evalue": "ignored",
          "traceback": [
            "\u001b[0;31m---------------------------------------------------------------------------\u001b[0m",
            "\u001b[0;31mValueError\u001b[0m                                Traceback (most recent call last)",
            "\u001b[0;32m<ipython-input-1-cd5c6c314e47>\u001b[0m in \u001b[0;36m<module>\u001b[0;34m()\u001b[0m\n\u001b[1;32m     12\u001b[0m   \u001b[0;32mreturn\u001b[0m \u001b[0mresult\u001b[0m\u001b[0;34m\u001b[0m\u001b[0;34m\u001b[0m\u001b[0m\n\u001b[1;32m     13\u001b[0m \u001b[0mop\u001b[0m\u001b[0;34m=\u001b[0m\u001b[0minput\u001b[0m\u001b[0;34m(\u001b[0m\u001b[0;34m\"Enter the operator\"\u001b[0m\u001b[0;34m)\u001b[0m\u001b[0;34m\u001b[0m\u001b[0;34m\u001b[0m\u001b[0m\n\u001b[0;32m---> 14\u001b[0;31m \u001b[0mNum1\u001b[0m\u001b[0;34m=\u001b[0m\u001b[0mfloat\u001b[0m\u001b[0;34m(\u001b[0m\u001b[0minput\u001b[0m\u001b[0;34m(\u001b[0m\u001b[0;34m\"Enter a value\"\u001b[0m\u001b[0;34m)\u001b[0m\u001b[0;34m)\u001b[0m\u001b[0;34m\u001b[0m\u001b[0;34m\u001b[0m\u001b[0m\n\u001b[0m\u001b[1;32m     15\u001b[0m \u001b[0mNum2\u001b[0m\u001b[0;34m=\u001b[0m\u001b[0mfloat\u001b[0m\u001b[0;34m(\u001b[0m\u001b[0minput\u001b[0m\u001b[0;34m(\u001b[0m\u001b[0;34m\"Enter another value\"\u001b[0m\u001b[0;34m)\u001b[0m\u001b[0;34m)\u001b[0m\u001b[0;34m\u001b[0m\u001b[0;34m\u001b[0m\u001b[0m\n\u001b[1;32m     16\u001b[0m \u001b[0mprint\u001b[0m\u001b[0;34m(\u001b[0m\u001b[0mbasic_calculation\u001b[0m\u001b[0;34m(\u001b[0m\u001b[0mop\u001b[0m\u001b[0;34m,\u001b[0m\u001b[0mNum1\u001b[0m\u001b[0;34m,\u001b[0m\u001b[0mNum2\u001b[0m\u001b[0;34m)\u001b[0m\u001b[0;34m)\u001b[0m\u001b[0;34m\u001b[0m\u001b[0;34m\u001b[0m\u001b[0m\n",
            "\u001b[0;31mValueError\u001b[0m: could not convert string to float: "
          ]
        }
      ]
    },
    {
      "cell_type": "markdown",
      "metadata": {
        "id": "KGitjtfO5D83"
      },
      "source": [
        "### Task 14\n",
        "Write a function which will take 2 arguments. They are:\n",
        "- Sentence\n",
        "- position\n",
        "\n",
        "Your first task is to take these arguments as user input and pass these values to the function parameters.\n",
        "\n",
        "Your second task is to implement the function and remove the characters at the index number which is divisible by the position (Avoid the index number 0 as it will always be divisible by the position, so no need to remove the index 0 character).\n",
        "Finally, add the removed characters at the end of the new string.\n",
        "\n",
        "Return the value and then finally, print the new string at the function call.\n",
        "\n",
        "<font color='red'>**[Cannot use remove() or removed() for this task]** </font>\n",
        "\n",
        "=====================================================\n",
        "\n",
        "**Input:**\\\n",
        "\"I love programming.\"\\\n",
        "3\\\n",
        "**Function call:**\\\n",
        "function_name(\"I love programming.\", 3)\\\n",
        "**Output:**\\\n",
        "I lveprgrmmngo oai.\n",
        "\n",
        "==============================================\n",
        "\n",
        "**Input:**\\\n",
        "\"Python is easy to learn. I love python.\"\\\n",
        "6\\\n",
        "**Function call:**\\\n",
        "function_name(\"Python is easy to learn. I love python.\", 6)\\\n",
        "**Output:**\\\n",
        "Pythonis eay to earn.I lov pythn. sl eo\n"
      ]
    },
    {
      "cell_type": "code",
      "metadata": {
        "id": "1Op6YcHY5D84",
        "colab": {
          "base_uri": "https://localhost:8080/"
        },
        "outputId": "b7a898cf-8943-468e-a8fc-e81e52763824"
      },
      "source": [
        "#todo\n",
        "sentence=input(\"Enter a sentence: \")\n",
        "position=int(input(\"Enter the position: \"))\n",
        "def function_0(sentence,position):\n",
        "    res_sen=sentence[0]\n",
        "    rem_sen=\"\"\n",
        "    for i in range(1,len(sentence)):\n",
        "        if i%position!=0:\n",
        "            res_sen+=sentence[i]\n",
        "        else:\n",
        "            rem_sen+=sentence[i]\n",
        "    return res_sen+rem_sen\n",
        "print(function_0(sentence,position))"
      ],
      "execution_count": null,
      "outputs": [
        {
          "output_type": "stream",
          "name": "stdout",
          "text": [
            "Enter a sentence: I love programming.\n",
            "Enter the position: 3\n",
            "I lveprgrmmngo oai.\n"
          ]
        }
      ]
    },
    {
      "cell_type": "markdown",
      "metadata": {
        "id": "5Gq0ZAzQ5D8-"
      },
      "source": [
        "### Task 15\n",
        "You have been hired as an app developer for the company. The company plans to make an app for a grocery store where the user can order groceries and see the total amount to be paid in the cart section.\n",
        "\n",
        "To build this feature, you have to write a function that takes 2 arguments. They are:\n",
        "- order_items (must be a list)\n",
        "- location (default value should be set to \"Dhanmondi\")\n",
        "\n",
        "Your first task is to take a list of items from the user. Pass the list into the function parameter along with the optional location (Use default argument technique). (Also, no need to take location as input, pass this any value you want.)\n",
        "\n",
        "Your second task is to implement the function. In the function, create a dictionary for the items shown in the table. Calculate the total price of the items passed as a list to the function. Additionally, add a delivery fee of 30 taka if the location is Dhanmondi. Otherwise, add a delivery fee of 70 taka. Finally, return the value and print it.\n",
        "\n",
        "| Item | Price(Tk) |\n",
        "| --- | --- |\n",
        "| Rice | 105 |\n",
        "| Potato | 20 |\n",
        "| Chicken | 250 |\n",
        "| Beef | 510 |\n",
        "| Oil | 85 |\n",
        "\n",
        "=====================================================\n",
        "\n",
        "**Hint:** The keys are the items and values are the corresponding price. Iterate the items in the list and check if the items in the list are available in the dictionary keys or not. If it is available, add the price.\n",
        "\n",
        "=====================================================\n",
        "\n",
        "**Example1:**\\\n",
        "function_name([\"Rice\", \"Beef\", \"Rice\"], \"Mohakhali\")\n",
        "\n",
        "total = 105 + 510 + 105 = 720 (Take the price of each item and add them.)\\\n",
        "total = 720 + 70 = 790 (Finally, add the delivery fee based on the location.)\n",
        "\n",
        "**Input:**\\\n",
        "[\"Rice\", \"Beef\", \"Rice\"]\\\n",
        "**Function Call:**\\\n",
        "function_name([\"Rice\", \"Beef\", \"Rice\"], \"Mohakhali\")\\\n",
        "**Output:**\\\n",
        "790\n",
        "\n",
        "==============================================\n",
        "\n",
        "**Example2:**\n",
        "\n",
        "function_name([\"Rice\", \"Beef\", \"Rice\"])\n",
        "\n",
        "total = 105 + 510 + 105 = 720 (Take the price of each item and add them.)\\\n",
        "total = 720 + 30 = 750 (Since no location is passed in the parameter, it will use the default location-\"Dhanmondi\". For dhanmondi, delivery fee of 30 taka)\n",
        "\n",
        "**Input:**\\\n",
        "[\"Rice\", \"Beef\", \"Rice\"]\\\n",
        "**Function Call:**\\\n",
        "function_name([\"Rice\", \"Beef\", \"Rice\"])\\\n",
        "**Output:**\\\n",
        "750"
      ]
    },
    {
      "cell_type": "code",
      "metadata": {
        "id": "KqbU53QPblRv",
        "colab": {
          "base_uri": "https://localhost:8080/"
        },
        "outputId": "7e2d07c2-bac3-49b8-e6cd-6eed372318e4"
      },
      "source": [
        "#todo\n",
        "Items=input(\"Enther the list of items including square parenthesis\")\n",
        "def function_name(order_items,location=\"Dhanmondi\"):\n",
        "    order_itm=order_items[1:-1].replace('\"',\"\").split(\", \")\n",
        "    dict1={\"Rice\":105,\"Potato\":20,\"Chicken\":250,\"Beef\":510,\"Oil\":85}\n",
        "    total=0\n",
        "    for j in order_itm:\n",
        "        if j in dict1.keys():\n",
        "            total+=dict1[j]\n",
        "    if location==\"Dhanmondi\":\n",
        "        return total+30\n",
        "    else:\n",
        "        return total+70\n",
        "print(function_name(Items,\"Mohammadpur\"))"
      ],
      "execution_count": null,
      "outputs": [
        {
          "output_type": "stream",
          "name": "stdout",
          "text": [
            "Enther the list of items including square parenthesis[\"Rice\", \"Beef\", \"Rice\"]\n",
            "790\n"
          ]
        }
      ]
    },
    {
      "cell_type": "markdown",
      "metadata": {
        "id": "sWkvpVVmbT5n"
      },
      "source": [
        "## Optional Tasks (16 -21) [Ungraded]"
      ]
    },
    {
      "cell_type": "markdown",
      "metadata": {
        "id": "LIi7SUJLZ4gA"
      },
      "source": [
        "### Task 16\n",
        "Write a function called **splitting_money** that takes an “amount” of money as a argument.\n",
        "\n",
        "Your first task is to take the “amount” of money as user input and pass the value to the function paramater.\n",
        "\n",
        "Your second task is to implement the function and calculate how that money can be split into 500, 100, 50, 20, 10, 5, 2, and 1 taka notes.\n",
        "\n",
        "Then print the returned value in the function call.\n",
        "\n",
        "=====================================================\n",
        "\n",
        "\n",
        "**Hints:** \\\n",
        "This task’s calculation is similar to Assignment-1’s seconds to hours, minutes conversion. To return the result containing multiple strings, you need to store it in a variable and return it at the end of the function.\n",
        "\n",
        "=====================================================\n",
        "\n",
        "\n",
        "**Example1:** \\\n",
        "If the money is 1234, then the function should return\n",
        "\n",
        "\"500 Taka: 2 note(s) \\\n",
        "100 Taka: 2 note(s) \\\n",
        "20 Taka: 1 note(s) \\\n",
        "10 Taka: 1 note(s) \\\n",
        "2 Taka: 2 note(s)\"\n",
        "\n",
        "=====================================================\n",
        "\n",
        "**Example2:** \\\n",
        "If the money is 151, then the function should return\n",
        "\n",
        "\"100 Taka: 1 note(s)\\\n",
        "50 Taka: 1 note(s)\\\n",
        "1 Taka: 1 note(s)\"\n",
        "\n",
        "\n"
      ]
    },
    {
      "cell_type": "code",
      "metadata": {
        "id": "XI1uLQ5rb2oH"
      },
      "source": [
        "inp=int(input())\n",
        "\n",
        "def splitting_money(inp):\n",
        "  Hours= (Seconds//60**2) #500\n",
        "  temp= Seconds%60**2\n",
        "  Minutes=(temp//60) #100\n",
        "  remaining_seconds= temp%60\n",
        "\n",
        "\n",
        "print(spliting_money)"
      ],
      "execution_count": null,
      "outputs": []
    },
    {
      "cell_type": "markdown",
      "metadata": {
        "id": "VpnhnPPcab5J"
      },
      "source": [
        "### Task 17\n",
        "Write a function called **remove_odd** that takes a list of numbers that have both even and odd numbers mixed. \\\n",
        "Your function should remove all the odd numbers and **return a compact list** which only contains the even numbers.\n",
        "\n",
        "<font color='red'>**[Cannot use remove() or removed() for this task]** </font>\n",
        "\n",
        "=====================================================\n",
        "\n",
        "**Example1:** \\\n",
        "**Function Call:**\\\n",
        "remove_odd ([21, 33, 44, 66, 11, 1, 88, 45, 10, 9])\\\n",
        "**Output:**\\\n",
        "[44, 66, 88, 10]\n",
        "\n",
        "====================================\n",
        "\n",
        "**Example2:** \\\n",
        "**Function Call:**\\\n",
        "remove_odd ([11,2,3,4,5,2,0,5,3])\\\n",
        "**Output:**\\\n",
        "[2, 4, 2, 0]\n",
        "\n"
      ]
    },
    {
      "cell_type": "code",
      "metadata": {
        "id": "y4dR2jV6bAYw",
        "colab": {
          "base_uri": "https://localhost:8080/"
        },
        "outputId": "54a0db4e-1c60-4ada-bda7-b5a0b4d8851c"
      },
      "source": [
        "#todo\n",
        "def remove_odd(lst):\n",
        "  lst1=[]\n",
        "  for i in lst:\n",
        "    if i%2==0:\n",
        "      lst1.append(i)\n",
        "  return lst1\n",
        "print(remove_odd ([21, 33, 44, 66, 11, 1, 88, 45, 10, 9]))"
      ],
      "execution_count": null,
      "outputs": [
        {
          "output_type": "stream",
          "name": "stdout",
          "text": [
            "[44, 66, 88, 10]\n"
          ]
        }
      ]
    },
    {
      "cell_type": "markdown",
      "metadata": {
        "id": "8qAKekKWbBnP"
      },
      "source": [
        "### Task 18\n",
        "Write a function which will take 4 arguments. They are:\n",
        "- starting value(inclusive)\n",
        "- ending value(exclusive)\n",
        "- first divisor\n",
        "- second divisor\n",
        "\n",
        "Your first task is to take these arguments as user input and pass these values to the function.\n",
        "\n",
        "Your second task is to implement the function and find all the numbers that are divisible by the <u> **first divisor or second divisor but not both**</u> from the starting value(inclusive) and ending value(exclusive). Add all the numbers that are divisible and finally return this value. Print the returned value in the function call.\n",
        "\n",
        "=====================================================\n",
        "\n",
        "**Input:**\\\n",
        "10\\\n",
        "40\\\n",
        "4\\\n",
        "7\\\n",
        "**Function Call:**\\\n",
        "function_name(10, 40, 4, 7)\\\n",
        "**Output:**\\\n",
        "210\\\n",
        "================================\\\n",
        "**Input:**\\\n",
        "5\\\n",
        "100\\\n",
        "3\\\n",
        "4\\\n",
        "**Function Call:**\\\n",
        "function_name(5, 100, 3, 4)\\\n",
        "**Output:**\\\n",
        "2012\n",
        "\n",
        "\n"
      ]
    },
    {
      "cell_type": "code",
      "metadata": {
        "id": "-vQ3gIWm5D8-",
        "colab": {
          "base_uri": "https://localhost:8080/"
        },
        "outputId": "f5c720a6-386e-481b-a2ec-0a2cce1f77a4"
      },
      "source": [
        "#todo\n",
        "def divisor_sum(sv,ev,fd,sd):\n",
        "  sum=0\n",
        "  for i in range(sv,ev):\n",
        "    if i%fd==0 and i%sd==0:\n",
        "      pass\n",
        "    elif i%fd==0 or i%sd==0:\n",
        "      sum+=i\n",
        "  return sum\n",
        "print(divisor_sum(10, 40, 4, 7))\n",
        "\n"
      ],
      "execution_count": null,
      "outputs": [
        {
          "output_type": "stream",
          "name": "stdout",
          "text": [
            "210\n"
          ]
        }
      ]
    },
    {
      "cell_type": "markdown",
      "metadata": {
        "id": "0poe59Q-aAtP"
      },
      "source": [
        "### Task 19\n",
        "Write a python function which will take a string as an argument.\n",
        "\n",
        "Your first task is to take a string as user input and pass the value to the function.\n",
        "\n",
        "Your second task is to implement a function which will check whether all the alphabets from a to j (convert all the alphabets to lowercase) has appeared at least once in the given string or not.\n",
        "- If all of these alphabets (a to j) appear at least once, then the result will be 5.\n",
        "- If any one of the alphabets (a to j) is not in the given string, then the result will be 6.\n",
        "\n",
        "Return this result and print the statement, \"PSG will win the Champions League this season\" that many times.\n",
        "\n",
        "=====================================================\n",
        "\n",
        "**Example01:**\n",
        "\"A black jackal is hunting a full grown deer\"\n",
        "\n",
        "Here all the alphabets from A to J are present at least once. So, the function will return 5 and will print the statement 5 times.\n",
        "\n",
        "**Input:**\\\n",
        "\"A black jackal is hunting a full grown deer\"\\\n",
        "**Function Call:**\\\n",
        "function_name(\"A black jackal is hunting a full grown deer\")\\\n",
        "**Output:**\\\n",
        "PSG will win the Champions League this season\\\n",
        "PSG will win the Champions League this season\\\n",
        "PSG will win the Champions League this season\\\n",
        "PSG will win the Champions League this season\\\n",
        "PSG will win the Champions League this season\n",
        "\n",
        "==============================================\n",
        "\n",
        "**Example02:**\n",
        "\n",
        "**Input:**\\\n",
        "\"ABBCDEFEFGHI\"\\\n",
        "**Function Call:**\\\n",
        "function_name(\"ABBCDEFEFGHI\")\\\n",
        "**Output:**\\\n",
        "PSG will win the Champions League this season\\\n",
        "PSG will win the Champions League this season\\\n",
        "PSG will win the Champions League this season\\\n",
        "PSG will win the Champions League this season\\\n",
        "PSG will win the Champions League this season\\\n",
        "PSG will win the Champions League this season\n"
      ]
    },
    {
      "cell_type": "code",
      "metadata": {
        "id": "uQRx3Kclb57h",
        "colab": {
          "base_uri": "https://localhost:8080/"
        },
        "outputId": "dd2d2646-4f90-419a-efa9-0aed9db1d7e8"
      },
      "source": [
        "#todo\n",
        "def function_name(inp):\n",
        "  count=0\n",
        "  x=inp.lower()\n",
        "  for i in x:\n",
        "    if i in \"abcdefghij\":\n",
        "      count+=1\n",
        "  # print (count)\n",
        "  if count==0:\n",
        "    return(\"PSG will win the Champions League this season\\n\")*5\n",
        "  else:\n",
        "    return(\"PSG will win the Champions League this season\\n\")*6\n",
        "print(function_name(\"A black jackal is hunting a full grown deer\"))\n",
        ""
      ],
      "execution_count": null,
      "outputs": [
        {
          "output_type": "stream",
          "name": "stdout",
          "text": [
            "PSG will win the Champions League this season\n",
            "PSG will win the Champions League this season\n",
            "PSG will win the Champions League this season\n",
            "PSG will win the Champions League this season\n",
            "PSG will win the Champions League this season\n",
            "PSG will win the Champions League this season\n",
            "\n"
          ]
        }
      ]
    },
    {
      "cell_type": "markdown",
      "metadata": {
        "id": "NTujbqM7cz8e"
      },
      "source": [
        "### Task 20\n",
        "Write a function called **individul_bonus_calculation** which will take 4 arguments. They are:\n",
        "\n",
        "- The player name\n",
        "- Yearly earning of that player\n",
        "- The total goal scored this season by that player\n",
        "- Bonus percent per goal.\n",
        "\n",
        "\n",
        "Your task is to implement the above-mentioned function that will calculate the total bonus on the yearly earnings of a player for the total goals he had scored.\n",
        "\n",
        "Additionally,\n",
        " * If the goal scored is above 30, add a (additional) bonus of 10000 taka.\n",
        " * If it is between 20 and 30 inclusive, add an extra 5000 taka.\n",
        "\n",
        "<font color='blue'>[ For this task, no need to take any input from the user. Call the functions and print the values inside the function. ] </font>\n",
        "\n",
        "\n",
        "\n",
        "=====================================================\n",
        "\n",
        "**Example1:**\\\n",
        "individul_bonus_calculation(\"Neymar\", 1200000, 35, 5)\n",
        "\n",
        "bonus = 35 * (5 / 100 * 1200000) + 10000 = 2110000\n",
        "\n",
        "**Function call:**\\\n",
        "individul_bonus_calculation(\"Neymar\", 1200000, 35, 5)\\\n",
        "**Output:**\\\n",
        "Neymar earned a bonus of  2110000 Taka for 35 goals.\n",
        "\n",
        "=====================================================\n",
        "\n",
        "**Example2:**\\\n",
        "individul_bonus_calculation('Jamal', 700000, 19, 8)\n",
        "\n",
        "bonus = 19 * (8 / 100 * 700000) + 0 = 1064000\n",
        "\n",
        "**Function call:**\\\n",
        "individul_bonus_calculation('Jamal', 700000, 19, 8)\\\n",
        "**Output:**\\\n",
        "Jamal earned a bonus of 1064000 Taka for 19 goals.\n",
        "\n",
        "=====================================================\n",
        "\n",
        "**Example3:**\\\n",
        "individul_bonus_calculation('Luis', 80000, 25, 10)\n",
        "\n",
        "bonus = 25 * (10 / 100 * 80000) + 5000 = 205000\n",
        "\n",
        "**Function call:**\\\n",
        "individul_bonus_calculation('Luis', 80000, 25, 10)\\\n",
        "**Output:**\\\n",
        "Luis earned a bonus of 205000 Taka for 25 goals.\n",
        "\n",
        "====================================================="
      ]
    },
    {
      "cell_type": "code",
      "source": [
        "def individul_bonus_calculation(name,earning,goals,bonus_percent):\n",
        "    bonus=goals*(bonus_percent/100 * earning)\n",
        "    if goals>30:\n",
        "        bonus+=10000\n",
        "    elif goals>20 and goals<=30:\n",
        "        bonus+=5000\n",
        "    result=name+\" earned a bonus of \"+str(bonus)+\" Taka for \"+str(goals)+\" goals\"\n",
        "    return result\n",
        "print(individul_bonus_calculation('Luis', 80000, 25, 10))\n"
      ],
      "metadata": {
        "colab": {
          "base_uri": "https://localhost:8080/"
        },
        "id": "XpSmM1nNmFeE",
        "outputId": "0b6e20f3-bc8d-4669-8592-4d4810575994"
      },
      "execution_count": null,
      "outputs": [
        {
          "output_type": "stream",
          "name": "stdout",
          "text": [
            "Luis earned a bonus of 205000.0 Taka for 25 goals\n"
          ]
        }
      ]
    },
    {
      "cell_type": "markdown",
      "metadata": {
        "id": "pRU4EhuSh_r-"
      },
      "source": [
        "### Task 21\n",
        "You have been hired by the Abahani football club to write a function that will calculate the total bonus on the yearly earnings of each player for the total goals they have scored.\n",
        "\n",
        "Since the number of players will vary, you decide to use the \"*args\" technique that you learned in your CSE110 class.\n",
        "\n",
        "For each player: pass the name, yearly earning, the total goal scored this season, bonus percent per goal.\n",
        "\n",
        "Additionally,\n",
        " * If the goal scored is above 30, add an extra bonus of 10000 taka.\n",
        " * If it is between 20 and 30 inclusive, add an extra 5000 taka.\n",
        "\n",
        "<font color='blue'>[ For this task, no need to take any input from the user. Call the functions and print the values inside the function. ] </font>\n",
        "\n",
        "**<font color='blue'>[Must reuse the individul_bonus_calculation() function of the previous task]</font>**\n",
        "\n",
        "\n",
        "=====================================================\n",
        "\n",
        "**Example1:**\\\n",
        "cal_bonus(\"Neymar\", 1200000, 35, 5)\n",
        "\n",
        "bonus = 35 * (5 / 100 * 1200000) + 10000 = 2110000\n",
        "\n",
        "**Function call:**\\\n",
        "cal_bonus(\"Neymar\", 1200000, 35, 5)\\\n",
        "**Output:**\\\n",
        "Neymar earned a bonus of  2110000 Taka for 35 goals.\n",
        "\n",
        "=====================================================\n",
        "\n",
        "**Example2:**\\\n",
        "**Function call:**\\\n",
        "function_name(\"Neymar\", 1200000, 30, 10, \"Jamal\", 700000, 19, 5)\\\n",
        "**Output:**\\\n",
        "Neymar earned a bonus of 3605000 Taka for 30 goals.\\\n",
        "Jamal earned a bonus of 665000 Taka for 19 goals.\n",
        "\n",
        "\n",
        "=====================================================\n",
        "\n",
        "**Example3:**\\\n",
        "**Function call:**\\\n",
        "function_name(\"Neymar\", 1200000, 35, 5, 'Jamal', 700000, 19, 8, 'Luis', 80000, 25, 10))\\\n",
        "**Output:**\\\n",
        "Neymar earned a bonus of 2110000 Taka for 35 goals.\\\n",
        "Jamal earned a bonus of 1064000 Taka for 19 goals.\\\n",
        "Luis earned a bonus of 205000 Taka for 25 goals.\n",
        "\n"
      ]
    },
    {
      "cell_type": "code",
      "metadata": {
        "id": "IIz3msUa5D9B",
        "colab": {
          "base_uri": "https://localhost:8080/",
          "height": 200
        },
        "outputId": "cab8155d-a31b-4b4f-dff9-534c18beb052"
      },
      "source": [
        "# to do\n",
        "# def individul_bonus_calculation(*name):\n",
        "#     for i in range(0,len(name),4):\n",
        "#         n=name[i]\n",
        "#         amount=name[i+1]\n",
        "#         totalgoal=name[i+2]\n",
        "#         bonus=name[i+3]\n",
        "#         return n,amount,totalgoal,bonus\n",
        "def  individual_bonus_calculation(*n,earning,goals,bonus_percent):\n",
        "    bonus=goals*(bonus_percent/100 * earning)\n",
        "    if goals>30:\n",
        "        bonus+=10000\n",
        "    elif goals>20 and goals<=30:\n",
        "        bonus+=5000\n",
        "    result=n+\" earned a bonus of \"+str(bonus)+\" Taka for \"+str(goals)+\" goals\"\n",
        "    return result\n",
        "print(individual_bonus_calculation(\"Neymar\",1200000,35,5,'Jamal',700000,19,8,'Luis',80000,25,1))\n"
      ],
      "execution_count": null,
      "outputs": [
        {
          "output_type": "error",
          "ename": "TypeError",
          "evalue": "ignored",
          "traceback": [
            "\u001b[0;31m---------------------------------------------------------------------------\u001b[0m",
            "\u001b[0;31mTypeError\u001b[0m                                 Traceback (most recent call last)",
            "\u001b[0;32m<ipython-input-28-d8946160f529>\u001b[0m in \u001b[0;36m<module>\u001b[0;34m()\u001b[0m\n\u001b[1;32m     15\u001b[0m     \u001b[0mresult\u001b[0m\u001b[0;34m=\u001b[0m\u001b[0mn\u001b[0m\u001b[0;34m+\u001b[0m\u001b[0;34m\" earned a bonus of \"\u001b[0m\u001b[0;34m+\u001b[0m\u001b[0mstr\u001b[0m\u001b[0;34m(\u001b[0m\u001b[0mbonus\u001b[0m\u001b[0;34m)\u001b[0m\u001b[0;34m+\u001b[0m\u001b[0;34m\" Taka for \"\u001b[0m\u001b[0;34m+\u001b[0m\u001b[0mstr\u001b[0m\u001b[0;34m(\u001b[0m\u001b[0mgoals\u001b[0m\u001b[0;34m)\u001b[0m\u001b[0;34m+\u001b[0m\u001b[0;34m\" goals\"\u001b[0m\u001b[0;34m\u001b[0m\u001b[0;34m\u001b[0m\u001b[0m\n\u001b[1;32m     16\u001b[0m     \u001b[0;32mreturn\u001b[0m \u001b[0mresult\u001b[0m\u001b[0;34m\u001b[0m\u001b[0;34m\u001b[0m\u001b[0m\n\u001b[0;32m---> 17\u001b[0;31m \u001b[0mprint\u001b[0m\u001b[0;34m(\u001b[0m\u001b[0mindividual_bonus_calculation\u001b[0m\u001b[0;34m(\u001b[0m\u001b[0;34m\"Neymar\"\u001b[0m\u001b[0;34m,\u001b[0m\u001b[0;36m1200000\u001b[0m\u001b[0;34m,\u001b[0m\u001b[0;36m35\u001b[0m\u001b[0;34m,\u001b[0m\u001b[0;36m5\u001b[0m\u001b[0;34m,\u001b[0m\u001b[0;34m'Jamal'\u001b[0m\u001b[0;34m,\u001b[0m\u001b[0;36m700000\u001b[0m\u001b[0;34m,\u001b[0m\u001b[0;36m19\u001b[0m\u001b[0;34m,\u001b[0m\u001b[0;36m8\u001b[0m\u001b[0;34m,\u001b[0m\u001b[0;34m'Luis'\u001b[0m\u001b[0;34m,\u001b[0m\u001b[0;36m80000\u001b[0m\u001b[0;34m,\u001b[0m\u001b[0;36m25\u001b[0m\u001b[0;34m,\u001b[0m\u001b[0;36m1\u001b[0m\u001b[0;34m)\u001b[0m\u001b[0;34m)\u001b[0m\u001b[0;34m\u001b[0m\u001b[0;34m\u001b[0m\u001b[0m\n\u001b[0m",
            "\u001b[0;31mTypeError\u001b[0m: individual_bonus_calculation() missing 3 required keyword-only arguments: 'earning', 'goals', and 'bonus_percent'"
          ]
        }
      ]
    },
    {
      "cell_type": "code",
      "source": [
        "def function_name(name):\n",
        "  list1=[]\n",
        "  list2=[]\n",
        "  for i in name:\n",
        "    if i not in list1:\n",
        "      list1.append(i)\n",
        "  var=\"\"\n",
        "  for j in list1:\n",
        "    var=str(ord(j))+str(j)+str(ord(j))\n",
        "    list2.append(var)\n",
        "  return list2\n",
        "print(function_name(\"pythonbook\"))\n",
        "\n",
        "\n",
        "\n"
      ],
      "metadata": {
        "colab": {
          "base_uri": "https://localhost:8080/"
        },
        "id": "ugBdsFAa5mh4",
        "outputId": "2acc6c42-1877-4888-9fa4-aaf5071cf02f"
      },
      "execution_count": null,
      "outputs": [
        {
          "output_type": "stream",
          "name": "stdout",
          "text": [
            "['112p112', '121y121', '116t116', '104h104', '111o111', '110n110', '98b98', '107k107']\n"
          ]
        }
      ]
    },
    {
      "cell_type": "code",
      "source": [
        "# def function_name(name):\n",
        "#   list1=[]\n",
        "#   list2=[]\n",
        "#   length=len(name)\n",
        "#   for i in name:\n",
        "#       list1.append(i)\n",
        "#   dics={}\n",
        "#   for j in list1:\n",
        "#       list3=[]\n",
        "#       idx=list1.index(j)\n",
        "#       idx2=idx-length\n",
        "#       list3.append(idx)\n",
        "#       list3.append(idx2)\n",
        "\n",
        "\n",
        "#       dics[j]=list3\n",
        "\n",
        "\n",
        "#   return dics\n",
        "# print(function_name(\"pythonbook\"))\n",
        "user=input()\n",
        "def dunction(x):\n",
        "    dict1={}\n",
        "    for i in range(len(x)):\n",
        "        if x[i] not in dict1:\n",
        "            dict1[x[i]]=[i,i-len(x)]       #for counting negative index\n",
        "        else:\n",
        "            dict1[x[i]].append(i)\n",
        "            dict1[x[i]].append(i-len(x))\n",
        "    return dict1\n",
        "print(dunction(user))\n"
      ],
      "metadata": {
        "colab": {
          "base_uri": "https://localhost:8080/"
        },
        "id": "Ne9B7tDq7cxe",
        "outputId": "80ac9e4f-a3f3-48ab-9dfd-2e79b91133a2"
      },
      "execution_count": null,
      "outputs": [
        {
          "output_type": "stream",
          "name": "stdout",
          "text": [
            "pythonbook\n",
            "{'p': [0, -10], 'y': [1, -9], 't': [2, -8], 'h': [3, -7], 'o': [4, -6, 7, -3, 8, -2], 'n': [5, -5], 'b': [6, -4], 'k': [9, -1]}\n"
          ]
        }
      ]
    },
    {
      "cell_type": "code",
      "source": [
        "def individul_bonus_calculation(*name):\n",
        "    for i in range(0,len(name),4):\n",
        "        n=name[i]\n",
        "        amount=name[i+1]\n",
        "        totalgoal=name[i+2]\n",
        "        bonus=name[i+3]\n",
        "        if totalgoal>30:\n",
        "            calc=totalgoal*((bonus/100)*amount)+10000\n",
        "        elif  20 <=totalgoal<=30:\n",
        "            calc=totalgoal*((bonus/100)*amount)+5000\n",
        "        else:\n",
        "            calc=totalgoal*((bonus/100)*amount)\n",
        "        print(n,\"has earned a bonus of\",calc,\"Taka for\", totalgoal, \"goals\")\n",
        "individul_bonus_calculation(\"Neymar\",1200000,35,5,'Jamal',700000,19,8,'Luis',80000,25,10)"
      ],
      "metadata": {
        "colab": {
          "base_uri": "https://localhost:8080/"
        },
        "id": "t8Yo7Mq9vIvA",
        "outputId": "bda2b8c2-0ae2-41a8-b8bf-03b4232b0b31"
      },
      "execution_count": null,
      "outputs": [
        {
          "output_type": "stream",
          "name": "stdout",
          "text": [
            "Neymar has earned a bonus of 2110000.0 Taka for 35 goals\n",
            "Jamal has earned a bonus of 1064000.0 Taka for 19 goals\n",
            "Luis has earned a bonus of 205000.0 Taka for 25 goals\n"
          ]
        }
      ]
    },
    {
      "cell_type": "code",
      "source": [
        "tup=[1,2,3,4,5]\n",
        "tup1=tuple(tup)\n",
        "print(tup1)\n",
        "dics={\"1\":[1,2,3,4],\"2\":(2,3,4,5)}\n",
        "sum=0\n",
        "for k,v in dics.items():\n",
        "  for i in v:\n",
        "    sum+=i\n",
        "\n",
        "print(sum)\n",
        "\n",
        "\n"
      ],
      "metadata": {
        "colab": {
          "base_uri": "https://localhost:8080/"
        },
        "id": "3CDLhopxdE23",
        "outputId": "cf82573a-def6-4af2-cfe9-47b7e98d56ed"
      },
      "execution_count": null,
      "outputs": [
        {
          "output_type": "stream",
          "name": "stdout",
          "text": [
            "(1, 2, 3, 4, 5)\n",
            "24\n"
          ]
        }
      ]
    }
  ]
}