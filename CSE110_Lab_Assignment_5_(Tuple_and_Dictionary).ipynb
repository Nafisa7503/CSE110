{
  "nbformat": 4,
  "nbformat_minor": 0,
  "metadata": {
    "kernelspec": {
      "display_name": "Python 3",
      "language": "python",
      "name": "python3"
    },
    "language_info": {
      "codemirror_mode": {
        "name": "ipython",
        "version": 3
      },
      "file_extension": ".py",
      "mimetype": "text/x-python",
      "name": "python",
      "nbconvert_exporter": "python",
      "pygments_lexer": "ipython3",
      "version": "3.7.6"
    },
    "colab": {
      "provenance": []
    }
  },
  "cells": [
    {
      "cell_type": "markdown",
      "metadata": {
        "id": "U4PRkuyUtDRw"
      },
      "source": [
        "# CSE110 Lab Assignment 5\n",
        "\n",
        "This Assignment is to help you develop your concept of Tuples and Dictionaries in Python.\n",
        "\n",
        "Write your name, student ID and CSE110 theory section number below:\n"
      ]
    },
    {
      "cell_type": "code",
      "metadata": {
        "colab": {
          "base_uri": "https://localhost:8080/"
        },
        "id": "_sVsXnW6W8V0",
        "outputId": "758a6c8b-5560-40bb-cb1a-5655c94c4d54"
      },
      "source": [
        "given_dict = { 'Mike' : ['CSE110','ENG101','MAT110'],\n",
        "'Simon' : ['CSE111','PHY111','MAT110', 'CSE230'],\n",
        "'Shawn' : ['CSE110','ENG101','MAT120','CSE230'],\n",
        "'Alice' : ['CSE110','ENG091','MAT092'] }\n",
        "list1=[]\n",
        "while True:\n",
        "  course=input(\"Enter course name : \")\n",
        "  if course==\"STOP\":\n",
        "    break\n",
        "  else:\n",
        "    list1.append(course)\n",
        "for i in list1:\n",
        "  list2=[]\n",
        "  for key,value in given_dict.items():\n",
        "    for j in value:\n",
        "      if j==course:\n",
        "        list2.append(key)\n",
        "print(list2)\n",
        "\n"
      ],
      "execution_count": null,
      "outputs": [
        {
          "output_type": "stream",
          "name": "stdout",
          "text": [
            "Enter course name : CSE110\n",
            "Enter course name : MAT110\n",
            "Enter course name : STOP\n",
            "[]\n"
          ]
        }
      ]
    },
    {
      "cell_type": "code",
      "metadata": {
        "id": "wl7fu2qrggWI"
      },
      "source": [
        "#STUDENT NAME:Nafisa Rahman\n",
        "#STUDENT ID:21201446\n",
        "#CSE110 THEORY SECTION: 17"
      ],
      "execution_count": null,
      "outputs": []
    },
    {
      "cell_type": "markdown",
      "metadata": {
        "id": "PD425BrvtDRy"
      },
      "source": [
        "## Write the code in Python to do the following tasks:\n",
        "\n",
        "**<font color='red'>[MUST MAINTAIN VARIABLE NAMING CONVENTIONS FOR ALL THE TASKS]</font>**\n",
        "\n",
        "## Part 1: Tuple"
      ]
    },
    {
      "cell_type": "markdown",
      "metadata": {
        "id": "FNOorLYXtDRz"
      },
      "source": [
        "### Task 1\n",
        "\n",
        "Assume, you have been given a tuple.\n",
        "\n",
        "a_tuple = (\"The Institute\",\\\n",
        "        (\"Best Mystery & Thriller\", \"The Silent Patient\", 68821),\\\n",
        "        75717,\\\n",
        "        [1, 2, 3, 400, 5, 6, 7],\\\n",
        "        (\"Best Fiction\", \"The Testaments\", 98291)\\\n",
        ")\n",
        "\n",
        "Write **one line** of Python code to access and print the value 400.\n",
        "\n",
        "===================================================================\n",
        "\n",
        "Output: 400\n",
        "\n",
        "===================================================================\n"
      ]
    },
    {
      "cell_type": "code",
      "metadata": {
        "id": "NDKB1cIMtDR0",
        "colab": {
          "base_uri": "https://localhost:8080/"
        },
        "outputId": "408b3cf8-04ac-4b99-f7bc-04863fa5f705"
      },
      "source": [
        "#to do\n",
        "a_tuple = (\"The Institute\",\n",
        "(\"Best Mystery & Thriller\", \"The Silent Patient\", 68821),\n",
        "75717,\n",
        "[1, 2, 3, 400, 5, 6, 7],\n",
        "(\"Best Fiction\", \"The Testaments\", 98291)\n",
        ")\n",
        "print(a_tuple[1][1])"
      ],
      "execution_count": null,
      "outputs": [
        {
          "output_type": "stream",
          "name": "stdout",
          "text": [
            "The Silent Patient\n"
          ]
        }
      ]
    },
    {
      "cell_type": "markdown",
      "metadata": {
        "id": "BXlIw1svtDR-"
      },
      "source": [
        "### Task 2\n",
        "\n",
        "Assume, you have been given a tuple. Write a Python program that creates a **new tuple** excluding the first and last two elements of the given tuple and prints the new tuple.\n",
        "\n",
        "**Hint:** You may use tuple slicing.\n",
        "\n",
        "===================================================================\n",
        "\n",
        "**Sample Input 1:**\\\n",
        "(10, 20, 24, 25, 26, 35, 70)\n",
        "\n",
        "\n",
        "**Sample Output 1:**\\\n",
        "(24, 25, 26)\n",
        "\n",
        "===================================================================\n",
        "\n",
        "**Sample Input 2:**\\\n",
        "(-10, 20, 30, 40)\n",
        "\n",
        "\n",
        "**Sample Output 2:**\\\n",
        "()\n",
        "\n",
        "===================================================================\n",
        "\n",
        "**Sample Input 3:**\\\n",
        "(-10, 20, 25, 30, 40)\n",
        "\n",
        "\n",
        "**Sample Output 3:**\\\n",
        "(25,)\n",
        "\n",
        "===================================================================\n"
      ]
    },
    {
      "cell_type": "code",
      "metadata": {
        "id": "FTJ-5AmNtDR_",
        "colab": {
          "base_uri": "https://localhost:8080/"
        },
        "outputId": "0b5a88a2-0631-4b53-b479-2a4626d55d1c"
      },
      "source": [
        "#to do\n",
        "tuple1=(10, 20, 24, 25, 26, 35, 70)\n",
        "print(tuple1[1:])\n"
      ],
      "execution_count": null,
      "outputs": [
        {
          "output_type": "stream",
          "name": "stdout",
          "text": [
            "(20, 24, 25, 26, 35, 70)\n"
          ]
        }
      ]
    },
    {
      "cell_type": "markdown",
      "metadata": {
        "id": "Z3GS2TE6tDSG"
      },
      "source": [
        "### Task 3\n",
        "\n",
        "Assume, you have been given a tuple.\n",
        "\n",
        "\n",
        "book_info = (\\\n",
        "    (\"Best Mystery & Thriller\",\"The Silent Patient\",68,821),\\\n",
        "    (\"Best Horror\",\"The Institute\",75,717),\\\n",
        "    (\"Best History & Biography\",\"The five\",31,783 ),\\\n",
        "    (\"Best Fiction\",\"The Testaments\",98,291)\\\n",
        ")\n",
        "\n",
        "Write a Python program that prints the size of the tuple and all its elements as shown below.\n",
        "\n",
        "===================================================================\n",
        "\n",
        "**Output:**\\\n",
        "Size of the tuple is: 4\\\n",
        "('Best Mystery & Thriller', 'The Silent Patient', 68, 821)\\\n",
        "('Best Horror', 'The Institute', 75, 717)\\\n",
        "('Best History & Biography', 'The five', 31, 783)\\\n",
        "('Best Fiction', 'The Testaments', 98, 291)\n",
        "\n",
        "==================================================================="
      ]
    },
    {
      "cell_type": "code",
      "metadata": {
        "id": "RPFYcAjntDSG",
        "colab": {
          "base_uri": "https://localhost:8080/"
        },
        "outputId": "3f82dad9-be70-4ba7-905b-c6eabc0f8ff4"
      },
      "source": [
        "#to do\n",
        "book_info = (\n",
        "(\"Best Mystery & Thriller\",\"The Silent Patient\",68,821),\n",
        "(\"Best Horror\",\"The Institute\",75,717),\n",
        "(\"Best History & Biography\",\"The five\",31,783 ),\n",
        "(\"Best Fiction\",\"The Testaments\",98,291)\n",
        ")\n",
        "# count=0\n",
        "# while count<len(book_info):\n",
        "#   count+=1\n",
        "count=len(book_info)\n",
        "print(\"The size of the tuple is \",count)\n",
        "for i in range(len(book_info)):\n",
        "  print(book_info[i])\n",
        "\n",
        "\n",
        "\n"
      ],
      "execution_count": null,
      "outputs": [
        {
          "output_type": "stream",
          "name": "stdout",
          "text": [
            "The size of the tuple is  4\n",
            "('Best Mystery & Thriller', 'The Silent Patient', 68, 821)\n",
            "('Best Horror', 'The Institute', 75, 717)\n",
            "('Best History & Biography', 'The five', 31, 783)\n",
            "('Best Fiction', 'The Testaments', 98, 291)\n"
          ]
        }
      ]
    },
    {
      "cell_type": "markdown",
      "metadata": {
        "id": "glKgAPlGtDSK"
      },
      "source": [
        "### Task 4\n",
        "\n",
        "Assume, you have been given a tuple with details about books that won the Good Reads Choice Awards.\n",
        "\n",
        "book_info = (\\\n",
        "    (\"Best Mystery & Thriller\",\"The Silent Patient\",68821),\\\n",
        "    (\"Best Horror\",\"The Institute\",75717),\\\n",
        "    (\"Best History & Biography\",\"The five\",31783 ),\\\n",
        "    (\"Best Fiction\",\"The Testaments\",98291)\\\n",
        ")\n",
        "\n",
        "Write a Python program that prints the award category, the book name, and its total votes earned as shown below.\n",
        "\n",
        "**<font color='red'>[Must use Tuple unpacking for printing and need to handle the quotation marks as a part of the output]</font>**\n",
        "\n",
        "===================================================================\n",
        "\n",
        "**Output:**\\\n",
        "The Silent Patient won the 'Best Mystery & Thriller' category with 68821 votes\\\n",
        "The Institute won the 'Best Horror' category with 75717 votes\\\n",
        "The five won the 'Best History & Biography' category with 31783 votes\\\n",
        "The Testaments won the 'Best Fiction' category with 98291 votes\n",
        "\n",
        "==================================================================="
      ]
    },
    {
      "cell_type": "code",
      "metadata": {
        "id": "LgTKpSGatDSM",
        "colab": {
          "base_uri": "https://localhost:8080/"
        },
        "outputId": "bdbe8415-9cd9-4f46-a59f-6a05fbe85985"
      },
      "source": [
        "#to do\n",
        "book_info = (\n",
        "(\"Best Mystery & Thriller\",\"The Silent Patient\",68821),\n",
        "(\"Best Horror\",\"The Institute\",75717),\n",
        "(\"Best History & Biography\",\"The five\",31783 ),\n",
        "(\"Best Fiction\",\"The Testaments\",98291)\n",
        ")\n",
        "a,b,c,d=book_info\n",
        "print(a[1],\"won the\",\"'\"+a[0]+\"'\",\"category with\",a[2],\"votes\")\n",
        "print(b[1],\"won the\",\"'\"+b[0]+\"'\",\"category with\",b[2],\"votes\")\n",
        "print(c[1],\"won the\",\"'\"+c[0]+\"'\",\"category with\",c[2],\"votes\")\n",
        "print(d[1],\"won the\",\"'\"+d[0]+\"'\",\"category with\",d[2],\"votes\")\n",
        "\n"
      ],
      "execution_count": null,
      "outputs": [
        {
          "output_type": "stream",
          "name": "stdout",
          "text": [
            "The Silent Patient won the 'Best Mystery & Thriller' category with 68821 votes\n",
            "The Institute won the 'Best Horror' category with 75717 votes\n",
            "The five won the 'Best History & Biography' category with 31783 votes\n",
            "The Testaments won the 'Best Fiction' category with 98291 votes\n",
            "blah blahbleh bleh\n"
          ]
        }
      ]
    },
    {
      "cell_type": "markdown",
      "metadata": {
        "id": "bRe9K_j55zpb"
      },
      "source": [
        "### Task 5\n",
        "Write a python program that takes an input from the user and finds the number of times that the input is present in a given tuple.\n",
        "\n",
        "===================================================================\n",
        "\n",
        "<b>Example 1: </b><br/>\n",
        "\n",
        "Given tuple: (10, 8, 5, 2, 10, 15, 10, 8, 5, 8, 8, 2) <br/>\n",
        "\n",
        "<b>Sample Input 1:</b>\n",
        "\n",
        "8<br/>\n",
        "\n",
        "<b>Sample Output 1: </b> <br/>\n",
        "\n",
        "8 appears 4 times in the tuple<br/>\n",
        "\n",
        "===================================================================\n",
        "\n",
        "<b> Example 2 </b><br/>\n",
        "\n",
        "Given tuple: (10, 8, 5, 2, 10, 15, 10, 8, 5, 8, 8, 2)<br/>\n",
        "\n",
        "<b>Sample Input 2:</b>\n",
        "\n",
        "1<br/>\n",
        "\n",
        "<b>Sample Output 2:</b><br/>\n",
        "\n",
        "1 appears 0 times in the tuple\n",
        "\n",
        "==================================================================="
      ]
    },
    {
      "cell_type": "code",
      "metadata": {
        "id": "mC-B1fpStDST",
        "colab": {
          "base_uri": "https://localhost:8080/"
        },
        "outputId": "0599c69b-671b-4d49-e18c-b5295e2674f7"
      },
      "source": [
        "#to do\n",
        "Given_tuple= (10, 8, 5, 2, 10, 15, 10, 8, 5, 8, 8, 2)\n",
        "number=int(input(\"Enter a number\"))\n",
        "count=0\n",
        "for i in range(len(Given_tuple)):\n",
        "  if number==Given_tuple[i]:\n",
        "    count += 1\n",
        "print(number,\"appears \",count,\"times in the tuple\")\n",
        "\n"
      ],
      "execution_count": null,
      "outputs": [
        {
          "output_type": "stream",
          "name": "stdout",
          "text": [
            "Enter a number8\n",
            "8 appears  4 times in the tuple\n"
          ]
        }
      ]
    },
    {
      "cell_type": "markdown",
      "metadata": {
        "id": "QWNi_JWr6AfC"
      },
      "source": [
        "### Task 6\n",
        "Write a Python program to reverse a given tuple.\n",
        "\n",
        "\n",
        "  <font color='red'>[You are not allowed to use tuple slicing]</font>\n",
        "  \n",
        "===================================================================\n",
        "\n",
        "<b>Note: </b>  Unlike lists, tuples are immutable. So, in order to reverse a tuple, we may need to convert it into a list first, then modify the list, and finally convert it back to a tuple.\n",
        "\n",
        "===================================================================\n",
        "\n",
        "<b>Example 1: </b><br/>\n",
        "\n",
        "Given tuple: ('a', 'b', 'c', 'd', 'e', 'f', 'g', 'h') <br/>\n",
        "\n",
        "<b> Output: </b> <br/>\n",
        "\n",
        "('h', 'g', 'f', 'e', 'd', 'c', 'b', 'a')<br/>\n",
        "\n",
        "\n",
        "===================================================================\n",
        "\n",
        "<b> Example 2: </b><br/>\n",
        "\n",
        "Given tuple: (10, 20, 30, 40, 50, 60)<br/>\n",
        "\n",
        "<b> Output: </b><br/>\n",
        "\n",
        "(60, 50, 40, 30, 20, 10)\n",
        "\n",
        "===================================================================\n"
      ]
    },
    {
      "cell_type": "code",
      "metadata": {
        "id": "CJrUcYAN6Bkx",
        "colab": {
          "base_uri": "https://localhost:8080/"
        },
        "outputId": "7886a26e-850e-493d-f58f-6573da3e3165"
      },
      "source": [
        "#to do\n",
        "tuple1 = (10, 20, 30, 40, 50, 60)\n",
        "\n",
        "# my_list=list(tuple1)\n",
        "# my_list.reverse()\n",
        "# new_tuple=tuple(my_list)\n",
        "\n",
        "# print(new_tuple)\n",
        "lst=[]\n",
        "for i in range(len(tuple1)):\n",
        "  lst.append(tuple1[i])\n",
        "print(lst)\n",
        "lst.reverse()\n",
        "tuple2=tuple(lst)\n",
        "print(tuple2)\n"
      ],
      "execution_count": null,
      "outputs": [
        {
          "output_type": "stream",
          "name": "stdout",
          "text": [
            "[10, 20, 30, 40, 50, 60]\n",
            "(60, 50, 40, 30, 20, 10)\n"
          ]
        }
      ]
    },
    {
      "cell_type": "markdown",
      "metadata": {
        "id": "km0QurTJtDSX"
      },
      "source": [
        "## Part 2: Dictionary"
      ]
    },
    {
      "cell_type": "markdown",
      "metadata": {
        "id": "kvV-HnCntDSc"
      },
      "source": [
        "### Task 7\n",
        "Suppose you are given two dictionaries.\\\n",
        "Now create a new dictionary \"marks\", merging the two dictionaries, **so that the original two dictionaries remain unchanged.**\n",
        "\n",
        "\n",
        "**Note:** You can use dictionary functions.\n",
        "\n",
        "===================================================================\n",
        "\n",
        "**Given:**\n",
        "\n",
        "{'Harry':15, 'Draco':8, 'Nevil':19}\n",
        "\n",
        "{'Ginie':18, 'Luna': 14}\n",
        "\n",
        "**Output:**\n",
        "\n",
        "{'Harry': 15, 'Draco': 8, 'Nevil': 19, 'Ginie': 18, 'Luna': 14}\n",
        "\n",
        "===================================================================\n",
        "\n",
        "**Given:**\n",
        "\n",
        "{'A':90, 'B': 0}\n",
        "\n",
        "{'C':50}\n",
        "\n",
        "**Output:**\n",
        "\n",
        "{'A': 90, 'B': 0, 'C': 50}\n",
        "\n",
        "===================================================================\n"
      ]
    },
    {
      "cell_type": "code",
      "metadata": {
        "id": "BGSyClBPtDSd",
        "colab": {
          "base_uri": "https://localhost:8080/"
        },
        "outputId": "7ab7798e-9a39-41ca-864e-2f2e0790d843"
      },
      "source": [
        "#to do\n",
        "dics_1={'A':90, 'B': 0}\n",
        "dics_2={'C':50}\n",
        "d={}\n",
        "for key,value in dics_1.items():\n",
        "  d[value]=key\n",
        "for key,value in dics_2.items():\n",
        "  d[key]=value\n",
        "print(d)\n",
        "\n",
        "\n",
        "\n"
      ],
      "execution_count": null,
      "outputs": [
        {
          "output_type": "stream",
          "name": "stdout",
          "text": [
            "{90: 'A', 0: 'B', 'C': 50}\n"
          ]
        }
      ]
    },
    {
      "cell_type": "markdown",
      "metadata": {
        "id": "QRzP4HYStDSi"
      },
      "source": [
        "### Task 8\n",
        "Write a Python program that takes a dictionary as an input from the user and then prints the average of all the values in the dictionary.\n",
        "\n",
        " <font color='red'>[You are not allowed to use len() and sum()]</font>\n",
        "\n",
        "===================================================================\n",
        "\n",
        "**Hint (1): For taking dictionary input**\n",
        "\n",
        "Approach(1): For taking dictionary as an input from the user, you may take the whole dictionary as a string using the input() function. Then you can use the split(), strip() functions and conditions to get the keys and values from the string. Finally, you can make the dictionary using the obtained data.\n",
        "\n",
        "Approach(2): If the first approach seems too difficult you can create an empty dictionary and then just run a simple loop. For each iteration ask the user for a key and a value using the input() function and keep updating the dictionary with the key and value.\n",
        "\n",
        "\n",
        "**Hint (2):** After you have a dictionary, you can use dictionary functions to get all the values from it, run loop to calculate the sum and the total number of values in the dictionary in order to find out the average.\n",
        "\n",
        "===================================================================\n",
        "\n",
        "**Sample Input 1:**\n",
        "\n",
        "{'Jon': 100, 'Dan':200, 'Rob':300}\n",
        "\n",
        "**Sample Output 1:**\n",
        "\n",
        "Average is 200.\n",
        "\n",
        "===================================================================\n",
        "\n",
        "\n",
        "**Sample Input 2:**\n",
        "\n",
        "{'Jon': 100, 'Dan':200, 'Rob':30, 'Ned':110}\n",
        "\n",
        "**Sample Output 2:**\n",
        "\n",
        "Average is 110.\n",
        "\n",
        "===================================================================\n"
      ]
    },
    {
      "cell_type": "code",
      "metadata": {
        "id": "VMRLnA53tDSk",
        "colab": {
          "base_uri": "https://localhost:8080/",
          "height": 200
        },
        "outputId": "e3243575-681b-414f-f1b1-403416b4afa7"
      },
      "source": [
        "#to do\n",
        "dics_1={}\n",
        "sum=0\n",
        "item=int(input(\"How many items you want to input?\"))\n",
        "for i in range(item):\n",
        "  keys=input(\"Enter your key name\")\n",
        "  val=int(input(\"Enter the value for the key\"))\n",
        "  dics_1[keys]=val\n",
        "print(dics_1)\n",
        "for i in dics_1.values():\n",
        "  sum= sum+i\n",
        "avg= sum//item\n",
        "print(\"The average is \",avg)\n",
        "\n",
        "# lst=[1,2,3,4,5]\n",
        "# print(sum(lst))"
      ],
      "execution_count": null,
      "outputs": [
        {
          "output_type": "error",
          "ename": "TypeError",
          "evalue": "ignored",
          "traceback": [
            "\u001b[0;31m---------------------------------------------------------------------------\u001b[0m",
            "\u001b[0;31mTypeError\u001b[0m                                 Traceback (most recent call last)",
            "\u001b[0;32m<ipython-input-33-d3a776bd4463>\u001b[0m in \u001b[0;36m<module>\u001b[0;34m()\u001b[0m\n\u001b[1;32m     14\u001b[0m \u001b[0;34m\u001b[0m\u001b[0m\n\u001b[1;32m     15\u001b[0m \u001b[0mlst\u001b[0m\u001b[0;34m=\u001b[0m\u001b[0;34m[\u001b[0m\u001b[0;36m1\u001b[0m\u001b[0;34m,\u001b[0m\u001b[0;36m2\u001b[0m\u001b[0;34m,\u001b[0m\u001b[0;36m3\u001b[0m\u001b[0;34m,\u001b[0m\u001b[0;36m4\u001b[0m\u001b[0;34m,\u001b[0m\u001b[0;36m5\u001b[0m\u001b[0;34m]\u001b[0m\u001b[0;34m\u001b[0m\u001b[0;34m\u001b[0m\u001b[0m\n\u001b[0;32m---> 16\u001b[0;31m \u001b[0mprint\u001b[0m\u001b[0;34m(\u001b[0m\u001b[0msum\u001b[0m\u001b[0;34m(\u001b[0m\u001b[0mlst\u001b[0m\u001b[0;34m)\u001b[0m\u001b[0;34m)\u001b[0m\u001b[0;34m\u001b[0m\u001b[0;34m\u001b[0m\u001b[0m\n\u001b[0m",
            "\u001b[0;31mTypeError\u001b[0m: 'int' object is not callable"
          ]
        }
      ]
    },
    {
      "cell_type": "markdown",
      "metadata": {
        "id": "le7fZ8XC9j_x"
      },
      "source": [
        "### Task 9\n",
        "Suppose there is a dictionary named exam_marks as given below.\n",
        "\n",
        "exam_marks = {'Cierra Vega': 175, 'Alden Cantrell': 200, 'Kierra Gentry': 165, 'Pierre Cox': 190}\n",
        "\n",
        "Write a Python program that takes an input from the user and creates a new dictionary with only those elements from 'exam_marks' whose keys have values higher than the user input (inclusive).\n",
        "\n",
        "===================================================================\n",
        "\n",
        "**Sample Input 1:**\n",
        "\n",
        "170\n",
        "\n",
        "**Sample Output 1:**\n",
        "\n",
        "{'Cierra Vega': 175, 'Alden Cantrell': 200, 'Pierre Cox': 190}\n",
        "\n",
        "===================================================================\n",
        "\n",
        "**Sample Input 2:**\n",
        "\n",
        "190\n",
        "\n",
        "**Sample Output 2:**\n",
        "\n",
        "{'Alden Cantrell': 200, 'Pierre Cox': 190}\n",
        "\n",
        "==================================================================="
      ]
    },
    {
      "cell_type": "code",
      "metadata": {
        "id": "qJWoUsLN9lBY",
        "colab": {
          "base_uri": "https://localhost:8080/"
        },
        "outputId": "eef9afd6-d239-4815-ca9f-c91fbf322956"
      },
      "source": [
        "#to do\n",
        "exam_marks = {'Cierra Vega': 175, 'Alden Cantrell': 200, 'Kierra Gentry': 165, 'Pierre Cox': 190}\n",
        "number=int(input(\"Enter a number\"))\n",
        "dics={}\n",
        "for i in exam_marks:\n",
        "  if exam_marks[i]>= number:\n",
        "    dics[i]=exam_marks[i]\n",
        "print(dics)\n"
      ],
      "execution_count": null,
      "outputs": [
        {
          "output_type": "stream",
          "name": "stdout",
          "text": [
            "Enter a number170\n",
            "{'Cierra Vega': 175, 'Alden Cantrell': 200, 'Pierre Cox': 190}\n"
          ]
        }
      ]
    },
    {
      "cell_type": "markdown",
      "metadata": {
        "id": "IsqFQpqKtDSs"
      },
      "source": [
        "### Task 10\n",
        "Write a Python program that finds the largest value with its key from a given dictionary.  \n",
        "\n",
        "<font color='red'>\n",
        "[You are not allowed to use the max() function for this task]</font>\n",
        "\n",
        "**Note:** You do not need to take the dictionaries as an input from the user but your code should work for any given dictionary. Also, you need to handle the quotation marks as a part of the output.\n",
        "\n",
        "**Hint:** Think of membership operators (in and not in). You can use dictionary functions to get the values.\n",
        "\n",
        "===================================================================\n",
        "\n",
        "Sample 1:\n",
        "\n",
        "**Given:**\n",
        "\n",
        "{'sci fi': 12, 'mystery': 15, 'horror': 8, 'mythology': 10, 'young_adult': 4, 'adventure':14}\n",
        "\n",
        "**Output:**\n",
        "\n",
        "The highest selling book genre is 'mystery' and the number of books sold are 15.\n",
        "\n",
        "===================================================================\n",
        "\n",
        "Sample 2:\n",
        "\n",
        "**Given:**\n",
        "\n",
        "{'sci fi': 5, 'mystery': 3, 'horror': 14,\n",
        "             'young_adult': 2, 'adventure':9}\n",
        "\n",
        "**Output:**\n",
        "\n",
        "The highest selling book genre is  'horror'  and the number of books sold are 14.\n",
        "\n",
        "===================================================================\n"
      ]
    },
    {
      "cell_type": "code",
      "metadata": {
        "id": "v9Kosgs4tDSt",
        "colab": {
          "base_uri": "https://localhost:8080/"
        },
        "outputId": "9dbccf66-7e9f-409d-b6d8-240ee0299938"
      },
      "source": [
        "#to do\n",
        "dics={'sci fi': 12, 'mystery': 15, 'horror': 8, 'mythology': 10, 'young_adult': 4, 'adventure':14}\n",
        "Max=0\n",
        "max_value=\"\"\n",
        "for key,value in dics.items():\n",
        "  if value>Max:\n",
        "    Max=value\n",
        "    max_value=key\n",
        "print(\"The highest selling book genre is\",\"'\"+(max_value)+\"'\",\"and the number of books sold are \",Max)"
      ],
      "execution_count": null,
      "outputs": [
        {
          "output_type": "stream",
          "name": "stdout",
          "text": [
            "The highest selling book genre is 'mystery' and the number of books sold are  15\n"
          ]
        }
      ]
    },
    {
      "cell_type": "markdown",
      "metadata": {
        "id": "hAqjgwGNtDS2"
      },
      "source": [
        "### Task 11\n",
        "Write a Python program that takes a String as an input from the user and counts the frequency of each character using a dictionary. For solving this problem, you may use each character as a key and its frequency as values. <font color='red'>[You are not allowed to use the count() function]</font>\n",
        "\n",
        "**Hint:** You can create a new dictionary to store the frequencies. You may ignore case for simplicity (i.e. may consider P and p to be the same).\n",
        "\n",
        "\n",
        "===================================================================\n",
        "\n",
        "**Sample Input:**\\\n",
        "\"Python programming is fun\"\n",
        "\n",
        "**Sample Output:**\\\n",
        "{'p': 2, 'y': 1, 't': 1, 'h': 1, 'o': 2, 'n': 3, 'r': 2, 'g': 2, 'a': 1, 'm': 2, 'i': 2, 's': 1, 'f': 1, 'u': 1}\n",
        "\n",
        "===================================================================\n",
        "\n"
      ]
    },
    {
      "cell_type": "code",
      "metadata": {
        "id": "-m2yPIT7tDS3",
        "colab": {
          "base_uri": "https://localhost:8080/"
        },
        "outputId": "86e4e7ac-3382-4721-f5bc-1787063b4c7f"
      },
      "source": [
        "#to do\n",
        "string1=input(\"Enter the string: \").lower()\n",
        "string1=string1.replace(\" \",\"\")\n",
        "dics1={}\n",
        "for i in range(len(string1)):\n",
        "    if(string1[i] not in dics1):\n",
        "        dics1[string1[i]]=1\n",
        "    else:\n",
        "        dics1[string1[i]]= dics1[string1[i]] +1\n",
        "print(dics1)\n",
        "\n",
        "\n",
        "\n",
        ""
      ],
      "execution_count": null,
      "outputs": [
        {
          "output_type": "stream",
          "name": "stdout",
          "text": [
            "Enter the string: Python programming is fun\n",
            "{'p': 2, 'y': 1, 't': 1, 'h': 1, 'o': 2, 'n': 3, 'r': 2, 'g': 2, 'a': 1, 'm': 2, 'i': 2, 's': 1, 'f': 1, 'u': 1}\n"
          ]
        }
      ]
    },
    {
      "cell_type": "markdown",
      "metadata": {
        "id": "QWf1zsBctDS6"
      },
      "source": [
        "### Task 12\n",
        "Suppose you are given the following dictionary where the values are lists.\n",
        "\n",
        "dict = {'A': [1, 2, 3], 'b': ['1', '2'], \"c\": [4, 5, 6, 7]}\n",
        "\n",
        "Write a Python program that counts the total number of items in a dictionary’s values and prints it. <font color='red'>\n",
        "\n",
        "[without using sum(), len(), count() functions]</font>\n",
        "\n",
        "**Note:**  Make changes to the above dictionary and see if your code works properly for other dictionaries as well.\n",
        "\n",
        "===================================================================\n",
        "\n",
        "**Output:**\n",
        "\n",
        "9\n",
        "\n",
        "===================================================================\n",
        "\n"
      ]
    },
    {
      "cell_type": "code",
      "metadata": {
        "id": "atnD3A1utDS6",
        "colab": {
          "base_uri": "https://localhost:8080/"
        },
        "outputId": "223ad640-7083-47e6-e6d4-c66a630d78fe"
      },
      "source": [
        "#to do\n",
        "dict1 = {'a': [1, 3, 2], 'b': [2, 1], 'c': [1]}\n",
        "list1=[]\n",
        "for i in dict1.values():\n",
        "    for j in i:\n",
        "        list1.append(j)\n",
        "count=0\n",
        "for x in list1:\n",
        "  count+=1\n",
        "\n",
        "print(count)"
      ],
      "execution_count": null,
      "outputs": [
        {
          "output_type": "stream",
          "name": "stdout",
          "text": [
            "6\n"
          ]
        }
      ]
    },
    {
      "cell_type": "markdown",
      "metadata": {
        "id": "-imuPb3EtDTD"
      },
      "source": [
        "### Task 13\n",
        "\n",
        "Suppose you have been given the following list of tuples.\n",
        "\n",
        "list = [(\"a\", 1), (\"b\", 2), (\"a\", 3), (\"b\", 1), (\"a\", 2), (\"c\", 1)]\n",
        "\n",
        "Write a Python program that converts this list of tuples into a dictionary and then prints the dictionary.\n",
        "\n",
        "<font color='red'>[You are not allowed to use set]</font>\n",
        "\n",
        "\n",
        "**Hint:** Think of membership operators (in and not in).\n",
        "\n",
        "===================================================================\n",
        "\n",
        "**Output:**\n",
        "\n",
        "{'a': [1, 3, 2], 'b': [2, 1], 'c': [1]}\n",
        "\n",
        " ===================================================================\n"
      ]
    },
    {
      "cell_type": "code",
      "metadata": {
        "id": "bBBcHpgYtDTE",
        "colab": {
          "base_uri": "https://localhost:8080/"
        },
        "outputId": "9462648a-7194-4cf6-bfbd-1f21fb806d85"
      },
      "source": [
        "#todo\n",
        "list1 = [(\"a\", 1), (\"b\", 2), (\"a\", 3), (\"b\", 1), (\"a\", 2), (\"c\", 1)]\n",
        "a=[]\n",
        "b=[]\n",
        "c=[]\n",
        "dics1={}\n",
        "for i in range(len(list1)):\n",
        "    if list1[i][0]==\"a\":\n",
        "        a.append(list1[i][1])\n",
        "    dics1[\"a\"]=a\n",
        "    if list1[i][0]==\"b\":\n",
        "        b.append(list1[i][1])\n",
        "    dics1[\"b\"]=b\n",
        "    if list1[i][0]==\"c\":\n",
        "        c.append(list1[i][1])\n",
        "    dics1[\"c\"]=c\n",
        "print(dics1)"
      ],
      "execution_count": null,
      "outputs": [
        {
          "output_type": "stream",
          "name": "stdout",
          "text": [
            "{'a': [1, 3, 2], 'b': [2, 1], 'c': [1]}\n"
          ]
        }
      ]
    },
    {
      "cell_type": "markdown",
      "metadata": {
        "id": "UrxbFOWk5ASO"
      },
      "source": [
        "## Optional Tasks (14-19) [Ungraded]"
      ]
    },
    {
      "cell_type": "markdown",
      "metadata": {
        "id": "vtQRbX994-Se"
      },
      "source": [
        "### Task 14\n",
        "\n",
        "Given a list of tuples, your task is to multiply the elements of the tuple and return a list of multiplied elements as shown below.\n",
        "\n",
        "===================================================================\n",
        "\n",
        "**Example 1:**\n",
        "\n",
        "Given:\n",
        "\n",
        "[(2, 3), (4, 5), (6, 7), (2, 8)]\n",
        "\n",
        "**Output:**\n",
        "\n",
        "[6, 20, 42, 16]\n",
        "\n",
        "===================================================================\n",
        "\n",
        "**Example 2:**\n",
        "\n",
        "Given:\n",
        "\n",
        " [(11, 22), (33, 55), (55, 77), (11, 44)]\n",
        "\n",
        "**Output:**\n",
        "\n",
        "[242, 1815, 4235, 484]\n",
        "\n",
        "==================================================================="
      ]
    },
    {
      "cell_type": "code",
      "metadata": {
        "colab": {
          "base_uri": "https://localhost:8080/"
        },
        "id": "XN2yAIeCx9B1",
        "outputId": "56f06703-e199-47d0-f3d0-034732777e54"
      },
      "source": [
        "list1=[(2, 3, 5), (4, 5, 2  ), (6, 7), (2, 8)]\n",
        "list2=[]\n",
        "res=1\n",
        "for i in list1:\n",
        "    for j in i:\n",
        "        res=res*j\n",
        "    list2.append(res)\n",
        "    res=1\n",
        "print(list2)"
      ],
      "execution_count": null,
      "outputs": [
        {
          "output_type": "stream",
          "name": "stdout",
          "text": [
            "[30, 40, 42, 16]\n"
          ]
        }
      ]
    },
    {
      "cell_type": "markdown",
      "metadata": {
        "id": "jZQHbegc-QBA"
      },
      "source": [
        "### Task 15\n",
        "\n",
        "Assume, you have been given a tuple as below.\n",
        "\n",
        "a_tuple = ( [1, 2, 3], [4, 5, 6], [7, 8, 9], [10, 11, 12])\n",
        "\n",
        "Write a Python program that asks the user for an input (can be any data type) and **replaces the last element of each of the inner lists with the user given value.**\n",
        "\n",
        "===================================================================\n",
        "\n",
        "**Sample Input 1:**\n",
        "\n",
        "abc\n",
        "\n",
        "**Sample Output 1:**\n",
        "\n",
        "([1, 2, 'abc'], [4, 5, 'abc'], [7, 8, 'abc'], [10, 11, 'abc'])\n",
        "\n",
        "===================================================================\n",
        "\n",
        "**Sample Input 1:**\n",
        "\n",
        "1000\n",
        "\n",
        "**Sample Output 1:**\n",
        "\n",
        "([1, 2, '1000'], [4, 5, '1000'], [7, 8, '1000'], [10, 11, '1000'])\n",
        "\n",
        "==================================================================="
      ]
    },
    {
      "cell_type": "code",
      "metadata": {
        "id": "SjdnEjCz5op1",
        "colab": {
          "base_uri": "https://localhost:8080/"
        },
        "outputId": "3c0ebce5-57c7-4239-e745-f02711f78a85"
      },
      "source": [
        "#to do\n",
        "a_tuple = ( [1, 2, 3,4,5,6,], [4, 5, 6], [7, 8, 9], [10, 11, 12])\n",
        "ele=input(\"Enter anything\")\n",
        "\n",
        "\n",
        "for i in a_tuple:\n",
        "  i[-1]=ele\n",
        "print(a_tuple)\n",
        "\n",
        "\n"
      ],
      "execution_count": null,
      "outputs": [
        {
          "output_type": "stream",
          "name": "stdout",
          "text": [
            "Enter anythingabc\n",
            "([1, 2, 3, 4, 5, 'abc'], [4, 5, 'abc'], [7, 8, 'abc'], [10, 11, 'abc'])\n"
          ]
        }
      ]
    },
    {
      "cell_type": "markdown",
      "metadata": {
        "id": "dVZrZ8Od6WwM"
      },
      "source": [
        "### Task 16\n",
        "\n",
        "Suppose there is a dictionary named my_dictionary.\n",
        "\n",
        "my_dictionary = {'c1':'Red', 'c2':'Green', 'c3':None, 'd4':'Blue', 'a5':None}.\n",
        "\n",
        "Now write a Python program to remove empty items from the dictionary. [Empty items means keys without any values (None)].\n",
        "\n",
        "===================================================================\n",
        "\n",
        "**Output:**\n",
        "\n",
        "{'c1':'Red', 'c2':'Green', 'd4':'Blue'}\n",
        "\n",
        "==================================================================="
      ]
    },
    {
      "cell_type": "code",
      "metadata": {
        "id": "cK9Nh7-F6YUE",
        "colab": {
          "base_uri": "https://localhost:8080/"
        },
        "outputId": "9ea69864-3550-4e00-d522-0a2a52977c50"
      },
      "source": [
        "#to do\n",
        "my_dictionary = {'c1':'Red', 'c2':'Green', 'c3':None, 'd4':'Blue', 'a5':None}\n",
        "dict1={}\n",
        "for key,value in my_dictionary.items():\n",
        "  if value!=None:\n",
        "    dict1[key]=value\n",
        "print(dict1)\n"
      ],
      "execution_count": null,
      "outputs": [
        {
          "output_type": "stream",
          "name": "stdout",
          "text": [
            "{'c1': 'Red', 'c2': 'Green', 'd4': 'Blue'}\n"
          ]
        }
      ]
    },
    {
      "cell_type": "markdown",
      "metadata": {
        "id": "_W2bOMJn62xF"
      },
      "source": [
        "### Task 17\n",
        "\n",
        "Suppose you are given a dictionary as shown below. Write a Python program that takes two inputs from the user representing the lower (inclusive) and upper (exclusive) of a range of values. Your task is to extract all the items from the dictionary whose values lie in the range given as input by the user.\n",
        "\n",
        "dictionary = {'a' : 6, 'b' : 7, 'c' : 9, 'd' : 8, 'e' : 11, 'f' : 12, 'g' : 13}\n",
        "\n",
        "===================================================================\n",
        "\n",
        "**Sample Input 1:**\n",
        "\n",
        "9, 12\n",
        "\n",
        "**Sample Output 1:**\n",
        "\n",
        "{'c': 9, 'e': 11}\n",
        "\n",
        "**Explanation:**  Keys with values within the range of 9 and 11 are extracted.\n",
        "\n",
        "===================================================================\n",
        "\n",
        "**Sample Input 2:**\n",
        "\n",
        "14, 18\n",
        "\n",
        "**Sample Output 2 :**\n",
        "\n",
        "{}\n",
        "\n",
        "**Explanation:**  No values in range.\n",
        "\n",
        "==================================================================="
      ]
    },
    {
      "cell_type": "code",
      "metadata": {
        "id": "MLh9VlLD633D",
        "colab": {
          "base_uri": "https://localhost:8080/"
        },
        "outputId": "fb98cb33-11f9-485f-f65e-0b58343ee7c9"
      },
      "source": [
        "#to do\n",
        "dictionary = {'a' : 6, 'b' : 7, 'c' : 9, 'd' : 8, 'e' : 11, 'f' : 12, 'g' : 13}\n",
        "dict1={}\n",
        "inp=int(input(\"Enter lower bound\"))\n",
        "inp1=int(input(\"Enter upper bound\"))\n",
        "for key,value in dictionary.items():\n",
        "  if value>= inp and value< inp1:\n",
        "    dict1[key]=value\n",
        "print(dict1)\n"
      ],
      "execution_count": null,
      "outputs": [
        {
          "output_type": "stream",
          "name": "stdout",
          "text": [
            "Enter lower bound9\n",
            "Enter upper bound12\n",
            "{'c': 9, 'e': 11}\n"
          ]
        }
      ]
    },
    {
      "cell_type": "markdown",
      "metadata": {
        "id": "zC94TVcD7LqM"
      },
      "source": [
        "### Task 18\n",
        "\n",
        "Given a list of tuples, your task is to group the tuples based on the **second** element in the tuples as shown in the examples below. We can achieve this using **dictionary** by checking the second element in each tuple.\n",
        "\n",
        "[You do not need to take tuple as input and can assume that it is given as below]\n",
        "\n",
        "===================================================================\n",
        "\n",
        "**Example 1:**\n",
        "\n",
        "Given:\n",
        "\n",
        "[(20, 80), (31, 80), (1, 22), (88, 11), (27, 11)]\n",
        "\n",
        "**Output:**\n",
        "\n",
        "{80: [(20, 80), (31, 80)],\\\n",
        "         11: [(88, 11), (27, 11)],\\\n",
        "         22: [(1, 22)]}\n",
        "       \n",
        "===================================================================\n",
        "\n",
        "**Example 2:**\n",
        "\n",
        "Given:\n",
        "\n",
        "[(20, 'Sad'), (31, 'Sad'), (88, 'NotSad'), (27, 'NotSad')]\n",
        "\n",
        "**Output:**\n",
        "\n",
        "{'NotSad': [(88, 'NotSad'), (27, 'NotSad')],\\\n",
        "         'Sad: [(20, 'Sad'), (31, 'Sad')]}\n",
        "\n",
        "==================================================================="
      ]
    },
    {
      "cell_type": "code",
      "metadata": {
        "id": "zAunp7oZ7H-l",
        "colab": {
          "base_uri": "https://localhost:8080/"
        },
        "outputId": "0a2f6885-93c1-4f4b-82d8-7f0d35023562"
      },
      "source": [
        "#to do\n",
        "list1 = [(20, 80), (31, 80), (1, 22), (88, 11), (27, 11)]\n",
        "dict1 = {}\n",
        "for i in list1:\n",
        "  if i[1] in dict1:\n",
        "    dict1[i[1]].append(i)\n",
        "\n",
        "  else:\n",
        "    dict1.update({i[1]:[i]})\n",
        "\n",
        "print(dict1)\n",
        "\n"
      ],
      "execution_count": null,
      "outputs": [
        {
          "output_type": "stream",
          "name": "stdout",
          "text": [
            "\n",
            "\n",
            "{80: [(20, 80), (31, 80)], 22: [(1, 22)], 11: [(88, 11), (27, 11)]}\n"
          ]
        }
      ]
    },
    {
      "cell_type": "code",
      "metadata": {
        "id": "HpzL7Ibo-oWL"
      },
      "source": [],
      "execution_count": null,
      "outputs": []
    },
    {
      "cell_type": "markdown",
      "metadata": {
        "id": "Al7LDo_m8TAX"
      },
      "source": [
        "### Task 19\n",
        "\n",
        "\n",
        "Write a python program that takes 2 inputs from the user.\n",
        "\n",
        "* Input1: A string containing a single sentence or multiple sentences. Multiple sentences are separated by full stops.\n",
        "* Input2: A list containing special characters.\n",
        "\n",
        "After taking the inputs, your task is to create a dictionary where the **keys** will be the corresponding special characters from the given list and the **values** will be the words in the given sentence.\n",
        "\n",
        "You need to find out which key belongs to which value. To do that, you should calculate the **index number** using the formula given below. **The calculated index is the corresponding key of the word.** Make sure no duplicate values are inserted.\n",
        "\n",
        "&nbsp;&nbsp;&nbsp;&nbsp;\n",
        "\n",
        "**The formula:**\\\n",
        "**<font color='blue'>*Index value of special character list = (ASCII sum of the word) % (length of special character list)*</font>**\n",
        "\n",
        "\n",
        "=============================================================================\n",
        "\n",
        "\n",
        "**Sample Input 1**:\\\n",
        "'I love Programming. Python is love.'\\\n",
        "['@', '$', '&', '#']\n",
        "\n",
        "**Sample Output 1**:\\\n",
        "Words in the given String: ['I', 'love', 'Programming', 'Python', 'is', 'love']\\\n",
        "Answer: {'$': ['I'], '&': ['love', 'Python'], '#': ['Programming'], '@': ['is']}\n",
        "\n",
        "**Explanation 1:**\\\n",
        "From the string 'I love Programming. Python is love.' the {key: value} pair is calculated accordingly:\n",
        "\n",
        "\n",
        "| Word | ASCII sum|List length|Calculated index|Key|\n",
        "| --- | --- | --- | --- | --- |\n",
        "|I| 73|4| 73%4 = 1|'$'|\n",
        "|  |  |  |  |  |\n",
        "|love| 438|4| 438%4 = 2|'&'|\n",
        "|  |  |  |  |  |\n",
        "|Programming| 1155|4| 1155%4 = 3|'#'|\n",
        "|  |  |  |  |  |\n",
        "|Python| 642|4| 642%4 = 2|'&'|\n",
        "|  |  |  |  |  |\n",
        "|is| 220|4| 220%4 = 0|'@'|\n",
        "|  |  |  |  |  |\n",
        "|love| 438|4| 438%4 = 2|'&'|\n",
        "|  |  |  |  |  |\n",
        "\n",
        "\n",
        "The calculation is shown in the given table. Full stops after ‘Programming.’ and ‘love.’ are avoided. Also, the last word ‘love’ is a duplicate, and therefore, it was not inserted again as a value.\n",
        "\n",
        "\n",
        "\n",
        "=============================================================================\n",
        "\n",
        "\n",
        "**Sample Input 2**:\\\n",
        "'The secret of getting ahead is getting started.'\\\n",
        "['-', '=', '+', '*', '%']\n",
        "\n",
        "**Sample Output 2:**\\\n",
        "Words in the given String: ['The', 'secret', 'of', 'getting', 'ahead', 'is', 'getting', 'started']\\\n",
        "Answer: {'%': ['The', 'getting', 'ahead', 'started'], '=': ['secret'], '*': ['of'], '-': ['is']}\n",
        "\n",
        "**Explanation 2:**\\\n",
        "From the string 'The secret of getting ahead is getting started.' the {key: value} pair is calculated accordingly:\n",
        "\n",
        "\n",
        "| Word | ASCII sum|List length|Calculated index|Key|\n",
        "| --- | --- | --- | --- | --- |\n",
        "|The| 289|5| 289%5 = 4|'%'|\n",
        "|  |  |  |  |  |\n",
        "|secret| 646|5| 646%5 = 1|'='|\n",
        "|  |  |  |  |  |\n",
        "|of| 213|5| 213%5 = 3|'*'|\n",
        "|  |  |  |  |  |\n",
        "|getting| 754|5| 754%5 = 4|'%'|\n",
        "|  |  |  |  |  |\n",
        "|ahead| 499|5| 499%5 = 4|'%'|\n",
        "|  |  |  |  |  |\n",
        "|is| 220|5| 220%5 = 0|'-'|\n",
        "|  |  |  |  |  |\n",
        "|getting| 754|5| 754%5 = 4|'%'|\n",
        "|  |  |  |  |  |\n",
        "|started| 759|5| 759%5 = 4|'%'|\n",
        "|  |  |  |  |  |\n",
        "\n",
        "\n",
        "The calculation is shown in the given table. Full stop after ‘started.’ is avoided. Also, the word ‘getting’ is a duplicate and therefore it was not inserted again as a value.\n",
        "\n",
        "=============================================================================\n"
      ]
    },
    {
      "cell_type": "code",
      "metadata": {
        "id": "2w_nmFoN8ZBL",
        "colab": {
          "base_uri": "https://localhost:8080/"
        },
        "outputId": "77afda9d-d35e-435e-a0ca-f3f52af08438"
      },
      "source": [
        "#to do\n",
        "senten = input().replace(\".\",\" \").replace(\"'\",\"\").strip().split(\" \")\n",
        "sentensum = []\n",
        "for i in range(len(senten)):\n",
        "  sum = 0\n",
        "  for j in senten[i]:\n",
        "    sum += ord(j)\n",
        "  sentensum.append(sum)\n",
        "\n",
        "list1 = input(\"Enter the list (include square brackets'[]') \").replace(\" \",\"\")[1:-1].replace(\"'\",\"\").split(\",\")\n",
        "length = len(list1)\n",
        "\n",
        "print(\"Words in the given String:\",senten,sentensum)\n",
        "out = {}\n",
        "for i in range(len(list1)):\n",
        "  list2 = []\n",
        "  for j in range(len(senten)):\n",
        "    if int(sentensum[j])%len(list1) == i and senten[j] not in list2:\n",
        "      list2.append(senten[j])\n",
        "  if list2 != []:\n",
        "    out[list1[i]] = list2\n",
        "print(\"Answer:\",out)\n"
      ],
      "execution_count": null,
      "outputs": [
        {
          "output_type": "stream",
          "name": "stdout",
          "text": [
            "'I love Programming. Python is love.\n",
            "Enter the list (include square brackets'[]') ['@', '$', '&', '#']\n",
            "Words in the given String: ['I', 'love', 'Programming', '', 'Python', 'is', 'love'] [73, 438, 1155, 0, 642, 220, 438]\n",
            "Answer: {'@': ['', 'is'], '$': ['I'], '&': ['love', 'Python'], '#': ['Programming']}\n"
          ]
        }
      ]
    },
    {
      "cell_type": "code",
      "metadata": {
        "colab": {
          "base_uri": "https://localhost:8080/"
        },
        "id": "VtTPcyZRsWey",
        "outputId": "73b0248c-6d73-43e1-e0c8-fd3b6650fbb6"
      },
      "source": [
        "#Number2\n",
        "inp=\"RBRRBBR\"\n",
        "R_count=0\n",
        "G_count=0\n",
        "B_count=0\n",
        "list1=[]\n",
        "r1=[\"Red\"]\n",
        "g1=[\"Green\"]\n",
        "b1=[\"Blue\"]\n",
        "for i in inp:\n",
        "    if i==\"R\":\n",
        "        R_count+=1\n",
        "    elif i==\"G\":\n",
        "        G_count+=1\n",
        "    elif i==\"B\":\n",
        "        B_count+=1\n",
        "r1.append(R_count)\n",
        "g1.append(G_count)\n",
        "b1.append(B_count)\n",
        "list1.append(r1)\n",
        "list1.append(g1)\n",
        "list1.append(b1)\n",
        "if R_count==0:\n",
        "    list1.remove(r1)\n",
        "if G_count==0:\n",
        "    list1.remove(g1)\n",
        "if B_count==0:\n",
        "    list1.remove(b1)\n",
        "l1=[]\n",
        "for i in list1:\n",
        "    x=tuple(i)\n",
        "    l1.append(x)\n",
        "alibaba=tuple(l1)\n",
        "print(alibaba)\n"
      ],
      "execution_count": null,
      "outputs": [
        {
          "output_type": "stream",
          "name": "stdout",
          "text": [
            "(('Red', 4), ('Blue', 3))\n"
          ]
        }
      ]
    },
    {
      "cell_type": "code",
      "metadata": {
        "colab": {
          "base_uri": "https://localhost:8080/"
        },
        "id": "CYuDuDnw-y2X",
        "outputId": "b2c03b30-9049-453a-8516-924e7aaf7f5c"
      },
      "source": [
        "#Number1\n",
        "list1=\"442310, 441310, 42251, 42241, 451, 452\".split(\", \")\n",
        "even_sum=0\n",
        "odd_sum=0\n",
        "magic_list=[]\n",
        "list2=[]\n",
        "for i in list1:\n",
        "    for j in range (len(i)):\n",
        "        if j%2==0:\n",
        "            even_sum +=int(i[j])\n",
        "        else:\n",
        "            odd_sum +=int(i[j])\n",
        "    if even_sum==odd_sum:\n",
        "        magic_list.append(int(i))\n",
        "    else:\n",
        "        list2.append(int(i))\n",
        "    even_sum=0\n",
        "    odd_sum=0\n",
        "final_tuple=(tuple(magic_list),tuple(list2))\n",
        "print(final_tuple)"
      ],
      "execution_count": null,
      "outputs": [
        {
          "output_type": "stream",
          "name": "stdout",
          "text": [
            "((442310, 42251, 451), (441310, 42241, 452))\n"
          ]
        }
      ]
    },
    {
      "cell_type": "code",
      "metadata": {
        "colab": {
          "base_uri": "https://localhost:8080/"
        },
        "id": "XOGxWKNnC6Iq",
        "outputId": "be8f98dd-5669-40d6-b090-32fd4387f9c7"
      },
      "source": [
        "number=int(input(\"Enter the number of tuples\"))\n",
        "list1=[]\n",
        "list2=[]\n",
        "for i in range(number):\n",
        "  num=int(input(\"Enter the number of elements\"))\n",
        "  for j in range(num):\n",
        "    ele=int(input(\"Enter the value\"))\n",
        "    list2.append(ele)\n",
        "  list1.append(list2)\n",
        "  list2=[]\n",
        "print(list1)\n",
        "list3=[]\n",
        "max=0\n",
        "max1=True\n",
        "for x in list1:\n",
        "  count=0\n",
        "  sum=0\n",
        "  for y in x:\n",
        "    sum+=y\n",
        "    count+=1\n",
        "    if sum>max:\n",
        "      max=sum\n",
        "\n",
        "  avg=sum/count\n",
        "  list3.append(avg)\n",
        "\n",
        "print(list3)"
      ],
      "execution_count": null,
      "outputs": [
        {
          "output_type": "stream",
          "name": "stdout",
          "text": [
            "Enter the number of tuples2\n",
            "Enter the number of elements2\n",
            "Enter the value1\n",
            "Enter the value2\n",
            "Enter the number of elements2\n",
            "Enter the value2\n",
            "Enter the value3\n",
            "[[1, 2], [2, 3]]\n",
            "[1.5, 2.5]\n"
          ]
        }
      ]
    },
    {
      "cell_type": "code",
      "metadata": {
        "id": "1c7yGfAiHr6g"
      },
      "source": [
        "for x in list1:\n",
        "  for y in x:\n",
        "    sum+=y\n",
        "    count+=1\n",
        "    if sum>max:\n",
        "      max=sum\n",
        "  avg=sum/count\n",
        "  list3.append(avg)\n",
        "print(list3)"
      ],
      "execution_count": null,
      "outputs": []
    },
    {
      "cell_type": "code",
      "source": [
        "class A:\n",
        "  x=0\n",
        "  def __init__(self):\n",
        "    A.x+=1\n",
        "    pass\n",
        "\n",
        "a1=A()\n",
        "b1=A()\n",
        "\n"
      ],
      "metadata": {
        "id": "N9vO3PIOYRS1"
      },
      "execution_count": null,
      "outputs": []
    }
  ]
}